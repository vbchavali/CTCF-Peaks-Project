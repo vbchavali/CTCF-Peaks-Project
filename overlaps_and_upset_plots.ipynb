{
 "cells": [
  {
   "cell_type": "code",
   "execution_count": null,
   "id": "205d1084-1c7e-46dc-aa05-c76df80a6bf6",
   "metadata": {},
   "outputs": [],
   "source": [
    "import pandas as pd\n",
    "import matplotlib.pyplot as plt\n",
    "import bioframe as bf\n",
    "import numpy as np"
   ]
  },
  {
   "cell_type": "code",
   "execution_count": null,
   "id": "1e1a4036-6599-4aa2-8f26-2184d61c8c7a",
   "metadata": {},
   "outputs": [],
   "source": [
    "df_ES2i = pd.read_excel('~/Supplemental_Table_S5.xlsx', header = 3)\n",
    "df_ESS = pd.read_excel('~/Supplemental_Table_S6.xlsx', header = 3)\n",
    "df_NPC = pd.read_excel('~/Supplemental_Table_S7.xlsx', header = 3)"
   ]
  },
  {
   "cell_type": "markdown",
   "id": "a55b9284-242c-419b-92e4-b071a8b03bca",
   "metadata": {},
   "source": [
    "Function to determine overlaps for UpsetPlot. "
   ]
  },
  {
   "cell_type": "code",
   "execution_count": null,
   "id": "e91fe251-464e-4abd-b185-9f7b054fd4af",
   "metadata": {},
   "outputs": [],
   "source": [
    "def make_indicators(list_of_dfs):\n",
    "    name_arr = ['ES 2i', 'ES Serum', 'NPC']\n",
    "    #total count of all dfs \n",
    "    num_df = len(list_of_dfs)\n",
    "    #df of all intervals \n",
    "    df_tot = pd.concat(list_of_dfs) \n",
    "    print (df_tot)\n",
    "    i = 0\n",
    "    j = 0 \n",
    "    for df in list_of_dfs:\n",
    "        #if any given interval in df_tot overlaps any interval in df\n",
    "        df_tot = bf.count_overlaps(df_tot, df,\n",
    "                                             cols1=['#chr','start','end'], cols2=['#chr','start','end'])\n",
    "        df_tot['count'] = df_tot['count'].astype(bool)\n",
    "        df_tot.rename(columns={'count':name_arr[i]},inplace=True)\n",
    "        i = i + 1\n",
    "    return df_tot"
   ]
  },
  {
   "cell_type": "markdown",
   "id": "ce44f5aa-ec51-465b-a25a-b5c12a9aae63",
   "metadata": {},
   "source": [
    "Data-Cleanup for UpsetPlot Graph"
   ]
  },
  {
   "cell_type": "code",
   "execution_count": null,
   "id": "cd03c0c8-4dbb-4228-929e-81ab9da30e75",
   "metadata": {},
   "outputs": [],
   "source": [
    "list_of_dfs = [df_ESS,df_ES2i,df_NPC]\n",
    "overlap_indicators = make_indicators(list_of_dfs)\n",
    "overlap_indicators = overlap_indicators.drop(labels=[\"#chr\", \"start\",\"end\"], axis=1)"
   ]
  },
  {
   "cell_type": "markdown",
   "id": "a313ca73-e3df-48c1-81f3-4678653dba66",
   "metadata": {},
   "source": [
    "Upset Plot"
   ]
  },
  {
   "cell_type": "code",
   "execution_count": null,
   "id": "73b52d2d-8aca-4b22-bfca-68b3afff284e",
   "metadata": {},
   "outputs": [],
   "source": [
    "from upsetplot import UpSet\n",
    "UpSet(from_indicators([\"ES 2i\", \"ES Serum\", \"NPC\"],\n",
    "                      data=overlap_indicators), show_counts = True)\n",
    "#plt = UpSet(overlap_indicators, subset_size='sum', show_counts=True).plot()"
   ]
  }
 ],
 "metadata": {
  "kernelspec": {
   "display_name": "Research37",
   "language": "python",
   "name": "research37"
  },
  "language_info": {
   "codemirror_mode": {
    "name": "ipython",
    "version": 3
   },
   "file_extension": ".py",
   "mimetype": "text/x-python",
   "name": "python",
   "nbconvert_exporter": "python",
   "pygments_lexer": "ipython3",
   "version": "3.7.12"
  }
 },
 "nbformat": 4,
 "nbformat_minor": 5
}
