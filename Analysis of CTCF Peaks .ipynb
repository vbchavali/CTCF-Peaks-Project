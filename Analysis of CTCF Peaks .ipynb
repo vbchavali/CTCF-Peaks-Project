{
 "cells": [
  {
   "cell_type": "markdown",
   "id": "61a98a2d",
   "metadata": {},
   "source": [
    "# Recreating Images from Article \n",
    "\n",
    "## The following code recreates graph 1a of the research paper. \n",
    "\n",
    "https://genome.cshlp.org/content/27/7/1139/F2.expansion.html\n"
   ]
  },
  {
   "cell_type": "code",
   "execution_count": 2,
   "id": "1a61cf8c",
   "metadata": {},
   "outputs": [
    {
     "name": "stdout",
     "output_type": "stream",
     "text": [
      "Text(0.5, 0, 'Cell Type')\n"
     ]
    },
    {
     "data": {
      "image/png": "[encoded data removed]",
      "text/plain": [
       "<Figure size 432x288 with 1 Axes>"
      ]
     },
     "metadata": {
      "needs_background": "light"
     },
     "output_type": "display_data"
    }
   ],
   "source": [
    "import pandas as pd\n",
    "import matplotlib.pyplot as plt\n",
    "\n",
    "df_es_2i1_ctcf = pd.read_excel(r'~/Documents/SuppTables/Supplemental_Table_S5.xlsx', header = 3)\n",
    "df_es_serum_ctcf = pd.read_excel(r'~/Documents/SuppTables/Supplemental_Table_S6.xlsx', header = 3)\n",
    "df_npc1_ctcf = pd.read_excel(r'~/Documents/SuppTables/Supplemental_Table_S7.xlsx', header = 3)\n",
    "df_es2i2_ctcf = pd.read_excel(r'~/Documents/SuppTables/Supplemental_Table_S8.xlsx', header = 3)\n",
    "df_npc2_ctcf = pd.read_excel(r'~/Documents/SuppTables/Supplemental_Table_S9.xlsx', header = 3)\n",
    "df_es2iess_ctcf = pd.read_excel(r'~/Documents/SuppTables/Supplemental_Table_S10.xlsx', header = 3)\n",
    "df_all_peaks = pd.read_excel(r'~/Documents/SuppTables/Supplemental_Table_S11.xlsx', header = 3)\n",
    "df_yy1npc_peaks = pd.read_excel(r'~/Documents/SuppTables/Supplemental_Table_S12.xlsx', header = 3)\n",
    "df_yy1esserum_peaks= pd.read_excel(r'~/Documents/SuppTables/Supplemental_Table_S13.xlsx', header = 3)\n",
    "df_es_enhancer_annotations = pd.read_excel(r'~/Documents/SuppTables/Supplemental_Table_S14.xlsx', header = 3)\n",
    "df_npc_enhancer_annotations = pd.read_excel(r'~/Documents/SuppTables/Supplemental_Table_S15.xlsx', header = 3)\n",
    "\n",
    "##Import the dataframes with dictionary \n",
    "    \n",
    "esserum_val = df_es_serum_ctcf.shape[0]\n",
    "npc_val = df_npc1_ctcf.shape[0]\n",
    "es2i_val = df_es_2i1_ctcf.shape[0]\n",
    "\n",
    "df1 = {'Cell Type':[ 'ES 2i', 'ES Serum', 'NPCs'],'# CTCF ChIP Peaks': [esserum_val, npc_val,es2i_val ]}\n",
    "\n",
    "fig1 = plt.bar(df1['Cell Type'], df1['# CTCF ChIP Peaks'], color=['Black', 'Grey', 'Turquoise'])\n",
    "fig1 = plt.ylabel('# CTCF ChIP Peaks')\n",
    "fig1 = plt.xlabel('Cell Type')\n",
    "ay = plt.gca()\n",
    "ay.set_ylim([0,60000])\n",
    "\n",
    "\n",
    "print(fig1)\n"
   ]
  },
  {
   "cell_type": "code",
   "execution_count": 5,
   "id": "77d0e5df",
   "metadata": {},
   "outputs": [
    {
     "data": {
      "text/html": [
       "<div>\n",
       "<style scoped>\n",
       "    .dataframe tbody tr th:only-of-type {\n",
       "        vertical-align: middle;\n",
       "    }\n",
       "\n",
       "    .dataframe tbody tr th {\n",
       "        vertical-align: top;\n",
       "    }\n",
       "\n",
       "    .dataframe thead th {\n",
       "        text-align: right;\n",
       "    }\n",
       "</style>\n",
       "<table border=\"1\" class=\"dataframe\">\n",
       "  <thead>\n",
       "    <tr style=\"text-align: right;\">\n",
       "      <th></th>\n",
       "      <th>#chr</th>\n",
       "      <th>start</th>\n",
       "      <th>end</th>\n",
       "      <th>name</th>\n",
       "      <th>score</th>\n",
       "      <th>signalValue</th>\n",
       "      <th>pValue</th>\n",
       "      <th>qValue</th>\n",
       "      <th>peak</th>\n",
       "      <th>Unnamed: 9</th>\n",
       "      <th>28860</th>\n",
       "    </tr>\n",
       "  </thead>\n",
       "  <tbody>\n",
       "    <tr>\n",
       "      <th>0</th>\n",
       "      <td>chr1</td>\n",
       "      <td>4322662</td>\n",
       "      <td>4322893</td>\n",
       "      <td>Project004-IPSHOCH-Exp5-ChIP-NPC-CTCF-IP-Blobe...</td>\n",
       "      <td>144</td>\n",
       "      <td>6.87500</td>\n",
       "      <td>14.42945</td>\n",
       "      <td>11.63835</td>\n",
       "      <td>113</td>\n",
       "      <td>NaN</td>\n",
       "      <td>NaN</td>\n",
       "    </tr>\n",
       "    <tr>\n",
       "      <th>1</th>\n",
       "      <td>chr1</td>\n",
       "      <td>4336371</td>\n",
       "      <td>4336522</td>\n",
       "      <td>Project004-IPSHOCH-Exp5-ChIP-NPC-CTCF-IP-Blobe...</td>\n",
       "      <td>179</td>\n",
       "      <td>8.91892</td>\n",
       "      <td>17.99991</td>\n",
       "      <td>15.11715</td>\n",
       "      <td>105</td>\n",
       "      <td>NaN</td>\n",
       "      <td>NaN</td>\n",
       "    </tr>\n",
       "    <tr>\n",
       "      <th>2</th>\n",
       "      <td>chr1</td>\n",
       "      <td>4373031</td>\n",
       "      <td>4373165</td>\n",
       "      <td>Project004-IPSHOCH-Exp5-ChIP-NPC-CTCF-IP-Blobe...</td>\n",
       "      <td>179</td>\n",
       "      <td>8.91892</td>\n",
       "      <td>17.99991</td>\n",
       "      <td>15.11715</td>\n",
       "      <td>35</td>\n",
       "      <td>NaN</td>\n",
       "      <td>NaN</td>\n",
       "    </tr>\n",
       "    <tr>\n",
       "      <th>3</th>\n",
       "      <td>chr1</td>\n",
       "      <td>4506748</td>\n",
       "      <td>4506933</td>\n",
       "      <td>Project004-IPSHOCH-Exp5-ChIP-NPC-CTCF-IP-Blobe...</td>\n",
       "      <td>402</td>\n",
       "      <td>18.21393</td>\n",
       "      <td>40.26894</td>\n",
       "      <td>36.92000</td>\n",
       "      <td>64</td>\n",
       "      <td>NaN</td>\n",
       "      <td>NaN</td>\n",
       "    </tr>\n",
       "    <tr>\n",
       "      <th>4</th>\n",
       "      <td>chr1</td>\n",
       "      <td>4758436</td>\n",
       "      <td>4758774</td>\n",
       "      <td>Project004-IPSHOCH-Exp5-ChIP-NPC-CTCF-IP-Blobe...</td>\n",
       "      <td>790</td>\n",
       "      <td>25.94595</td>\n",
       "      <td>79.08524</td>\n",
       "      <td>74.76299</td>\n",
       "      <td>201</td>\n",
       "      <td>NaN</td>\n",
       "      <td>NaN</td>\n",
       "    </tr>\n",
       "    <tr>\n",
       "      <th>...</th>\n",
       "      <td>...</td>\n",
       "      <td>...</td>\n",
       "      <td>...</td>\n",
       "      <td>...</td>\n",
       "      <td>...</td>\n",
       "      <td>...</td>\n",
       "      <td>...</td>\n",
       "      <td>...</td>\n",
       "      <td>...</td>\n",
       "      <td>...</td>\n",
       "      <td>...</td>\n",
       "    </tr>\n",
       "    <tr>\n",
       "      <th>28855</th>\n",
       "      <td>chrX</td>\n",
       "      <td>166236954</td>\n",
       "      <td>166237110</td>\n",
       "      <td>Project004-IPSHOCH-Exp5-ChIP-NPC-CTCF-IP-Blobe...</td>\n",
       "      <td>191</td>\n",
       "      <td>10.48681</td>\n",
       "      <td>19.14016</td>\n",
       "      <td>16.23458</td>\n",
       "      <td>73</td>\n",
       "      <td>NaN</td>\n",
       "      <td>NaN</td>\n",
       "    </tr>\n",
       "    <tr>\n",
       "      <th>28856</th>\n",
       "      <td>chrX</td>\n",
       "      <td>166300933</td>\n",
       "      <td>166301115</td>\n",
       "      <td>Project004-IPSHOCH-Exp5-ChIP-NPC-CTCF-IP-Blobe...</td>\n",
       "      <td>304</td>\n",
       "      <td>15.00000</td>\n",
       "      <td>30.41432</td>\n",
       "      <td>27.27226</td>\n",
       "      <td>68</td>\n",
       "      <td>NaN</td>\n",
       "      <td>NaN</td>\n",
       "    </tr>\n",
       "    <tr>\n",
       "      <th>28857</th>\n",
       "      <td>chrX</td>\n",
       "      <td>166417046</td>\n",
       "      <td>166417363</td>\n",
       "      <td>Project004-IPSHOCH-Exp5-ChIP-NPC-CTCF-IP-Blobe...</td>\n",
       "      <td>445</td>\n",
       "      <td>12.74958</td>\n",
       "      <td>44.51430</td>\n",
       "      <td>41.07328</td>\n",
       "      <td>205</td>\n",
       "      <td>NaN</td>\n",
       "      <td>NaN</td>\n",
       "    </tr>\n",
       "    <tr>\n",
       "      <th>28858</th>\n",
       "      <td>chrX</td>\n",
       "      <td>166424734</td>\n",
       "      <td>166425255</td>\n",
       "      <td>Project004-IPSHOCH-Exp5-ChIP-NPC-CTCF-IP-Blobe...</td>\n",
       "      <td>938</td>\n",
       "      <td>12.65306</td>\n",
       "      <td>93.85211</td>\n",
       "      <td>89.16364</td>\n",
       "      <td>371</td>\n",
       "      <td>NaN</td>\n",
       "      <td>NaN</td>\n",
       "    </tr>\n",
       "    <tr>\n",
       "      <th>28859</th>\n",
       "      <td>chrX</td>\n",
       "      <td>166428065</td>\n",
       "      <td>166428396</td>\n",
       "      <td>Project004-IPSHOCH-Exp5-ChIP-NPC-CTCF-IP-Blobe...</td>\n",
       "      <td>875</td>\n",
       "      <td>19.07143</td>\n",
       "      <td>87.57188</td>\n",
       "      <td>83.03507</td>\n",
       "      <td>180</td>\n",
       "      <td>NaN</td>\n",
       "      <td>NaN</td>\n",
       "    </tr>\n",
       "  </tbody>\n",
       "</table>\n",
       "<p>28860 rows × 11 columns</p>\n",
       "</div>"
      ],
      "text/plain": [
       "       #chr      start        end  \\\n",
       "0      chr1    4322662    4322893   \n",
       "1      chr1    4336371    4336522   \n",
       "2      chr1    4373031    4373165   \n",
       "3      chr1    4506748    4506933   \n",
       "4      chr1    4758436    4758774   \n",
       "...     ...        ...        ...   \n",
       "28855  chrX  166236954  166237110   \n",
       "28856  chrX  166300933  166301115   \n",
       "28857  chrX  166417046  166417363   \n",
       "28858  chrX  166424734  166425255   \n",
       "28859  chrX  166428065  166428396   \n",
       "\n",
       "                                                    name  score  signalValue  \\\n",
       "0      Project004-IPSHOCH-Exp5-ChIP-NPC-CTCF-IP-Blobe...    144      6.87500   \n",
       "1      Project004-IPSHOCH-Exp5-ChIP-NPC-CTCF-IP-Blobe...    179      8.91892   \n",
       "2      Project004-IPSHOCH-Exp5-ChIP-NPC-CTCF-IP-Blobe...    179      8.91892   \n",
       "3      Project004-IPSHOCH-Exp5-ChIP-NPC-CTCF-IP-Blobe...    402     18.21393   \n",
       "4      Project004-IPSHOCH-Exp5-ChIP-NPC-CTCF-IP-Blobe...    790     25.94595   \n",
       "...                                                  ...    ...          ...   \n",
       "28855  Project004-IPSHOCH-Exp5-ChIP-NPC-CTCF-IP-Blobe...    191     10.48681   \n",
       "28856  Project004-IPSHOCH-Exp5-ChIP-NPC-CTCF-IP-Blobe...    304     15.00000   \n",
       "28857  Project004-IPSHOCH-Exp5-ChIP-NPC-CTCF-IP-Blobe...    445     12.74958   \n",
       "28858  Project004-IPSHOCH-Exp5-ChIP-NPC-CTCF-IP-Blobe...    938     12.65306   \n",
       "28859  Project004-IPSHOCH-Exp5-ChIP-NPC-CTCF-IP-Blobe...    875     19.07143   \n",
       "\n",
       "         pValue    qValue  peak  Unnamed: 9  28860  \n",
       "0      14.42945  11.63835   113         NaN    NaN  \n",
       "1      17.99991  15.11715   105         NaN    NaN  \n",
       "2      17.99991  15.11715    35         NaN    NaN  \n",
       "3      40.26894  36.92000    64         NaN    NaN  \n",
       "4      79.08524  74.76299   201         NaN    NaN  \n",
       "...         ...       ...   ...         ...    ...  \n",
       "28855  19.14016  16.23458    73         NaN    NaN  \n",
       "28856  30.41432  27.27226    68         NaN    NaN  \n",
       "28857  44.51430  41.07328   205         NaN    NaN  \n",
       "28858  93.85211  89.16364   371         NaN    NaN  \n",
       "28859  87.57188  83.03507   180         NaN    NaN  \n",
       "\n",
       "[28860 rows x 11 columns]"
      ]
     },
     "execution_count": 5,
     "metadata": {},
     "output_type": "execute_result"
    }
   ],
   "source": [
    "df_npc1_ctcf"
   ]
  },
  {
   "cell_type": "markdown",
   "id": "9e7b9718",
   "metadata": {},
   "source": [
    "## The following code is for graph 2a of the research paper. "
   ]
  },
  {
   "cell_type": "code",
   "execution_count": 6,
   "id": "82692fa1",
   "metadata": {},
   "outputs": [
    {
     "data": {
      "image/png": "[encoded data removed]",
      "text/plain": [
       "<Figure size 256x320 with 4 Axes>"
      ]
     },
     "metadata": {
      "needs_background": "light"
     },
     "output_type": "display_data"
    }
   ],
   "source": [
    "from upsetplot import plot\n",
    "from upsetplot import from_contents\n",
    "from upsetplot import UpSet\n",
    "\n",
    "df2 = from_contents({'NPC': df_npc2_ctcf, 'ES 2i': df_es2i2_ctcf, 'ES2i and ESS': df_es2iess_ctcf, 'All': df_all_peaks})\n",
    "df2\n",
    "\n",
    "plt = UpSet(df2, subset_size='count').plot()\n",
    "\n",
    "#I think the ES Serum data is missing. I cannot find it in any of the excel files. Here is an attempt of an upset plot. "
   ]
  },
  {
   "cell_type": "code",
   "execution_count": 6,
   "id": "5ddd1346",
   "metadata": {},
   "outputs": [
    {
     "data": {
      "text/plain": [
       "3177"
      ]
     },
     "execution_count": 6,
     "metadata": {},
     "output_type": "execute_result"
    }
   ],
   "source": [
    "import bioframe\n",
    "import numpy as np\n",
    "\n",
    "bb1 = bioframe.count_overlaps(df_es_serum_ctcf, df_es_2i1_ctcf, cols1=['#chr','start','end'],\n",
    "                       cols2=['#chr','start','end'])\n",
    "bb1.rename(columns={'count':'count1'},inplace=True)\n",
    "bb1 = bioframe.count_overlaps(bb1, df_npc1_ctcf\n",
    "                             \n",
    "                             , cols1=['#chr','start','end'],\n",
    "                       cols2=['#chr','start','end'])\n",
    "bb1.rename(columns={'count':'count_es_npc'},inplace=True)\n",
    "\n",
    "np.sum( (bb1['count1']==0) * (bb1['count_es_npc']==0))\n",
    "\n",
    "#This value is for ES Serum only. "
   ]
  },
  {
   "cell_type": "code",
   "execution_count": 139,
   "id": "65f828e9",
   "metadata": {},
   "outputs": [
    {
     "data": {
      "text/plain": [
       "20134"
      ]
     },
     "execution_count": 139,
     "metadata": {},
     "output_type": "execute_result"
    }
   ],
   "source": [
    "bb1a = bioframe.count_overlaps(df_es_serum_ctcf, df_es_2i1_ctcf, cols1=['#chr','start','end'],\n",
    "                       cols2=['#chr','start','end'])\n",
    "bb1a.rename(columns={'count':'count1'},inplace=True)\n",
    "\n",
    "\n",
    "bb1a = bioframe.count_overlaps(bb1a, df_npc1_ctcf\n",
    "                             \n",
    "                             , cols1=['#chr','start','end'],\n",
    "                       cols2=['#chr','start','end'])\n",
    "bb1a.rename(columns={'count':'count_es_npc'},inplace=True)\n",
    "\n",
    "np.sum( (bb1a['count1']>=1) * (bb1a['count_es_npc']==0))\n",
    "\n",
    "#This value is for ES Serum and ES 2i.  "
   ]
  },
  {
   "cell_type": "code",
   "execution_count": 158,
   "id": "3310dd53",
   "metadata": {},
   "outputs": [
    {
     "name": "stdout",
     "output_type": "stream",
     "text": [
      "1765\n"
     ]
    },
    {
     "data": {
      "text/plain": [
       "0"
      ]
     },
     "execution_count": 158,
     "metadata": {},
     "output_type": "execute_result"
    }
   ],
   "source": [
    "bb6 = bioframe.count_overlaps(df_npc1_ctcf, df_es_serum_ctcf, cols1=['#chr','start','end'],\n",
    "                       cols2=['#chr','start','end'])\n",
    "bb6.rename(columns={'count':'count6'},inplace=True)\n",
    "print(np.sum(bb6['count6']==0))\n",
    "\n",
    "bb6 = bioframe.count_overlaps(bb6, df_npc1_ctcf\n",
    "                             \n",
    "                             , cols1=['#chr','start','end'],\n",
    "                       cols2=['#chr','start','end'])\n",
    "bb6.rename(columns={'count':'count_npc'},inplace=True)\n",
    "np.sum((bb6['count6']==0) * (bb6['count_npc']==0))\n",
    "\n",
    "#This value is for NPC only. The function does not work. "
   ]
  },
  {
   "cell_type": "code",
   "execution_count": 145,
   "id": "bfa37bb0",
   "metadata": {},
   "outputs": [
    {
     "data": {
      "text/plain": [
       "0"
      ]
     },
     "execution_count": 145,
     "metadata": {},
     "output_type": "execute_result"
    }
   ],
   "source": [
    "bb2a = bioframe.count_overlaps(df_es_serum_ctcf, df_npc1_ctcf, cols1=['#chr','start','end'],\n",
    "                       cols2=['#chr','start','end'])\n",
    "bb2a.rename(columns={'count':'count2a'},inplace=True)\n",
    "bb2a = bioframe.count_overlaps(bb2a, df_npc1_ctcf\n",
    "                             \n",
    "                             , cols1=['#chr','start','end'],\n",
    "                       cols2=['#chr','start','end'])\n",
    "bb2a.rename(columns={'count':'count_npc'},inplace=True)\n",
    "np.sum((bb2a['count2a']>=1) * (bb2a['count_npc']==0))\n",
    "\n",
    "#This value is for ES and NPC. The function does not work. "
   ]
  },
  {
   "cell_type": "code",
   "execution_count": 65,
   "id": "dbc7e1fc",
   "metadata": {},
   "outputs": [
    {
     "data": {
      "text/plain": [
       "8832"
      ]
     },
     "execution_count": 65,
     "metadata": {},
     "output_type": "execute_result"
    }
   ],
   "source": [
    "bb2 = bioframe.count_overlaps(df_es_2i1_ctcf, df_npc1_ctcf, cols1=['#chr','start','end'],\n",
    "                       cols2=['#chr','start','end'])\n",
    "bb2.rename(columns={'count':'count2'},inplace=True)\n",
    "bb2 = bioframe.count_overlaps(bb2, df_es_serum_ctcf\n",
    "                             \n",
    "                             , cols1=['#chr','start','end'],\n",
    "                       cols2=['#chr','start','end'])\n",
    "bb2.rename(columns={'count':'count_es_serum'},inplace=True)\n",
    "np.sum( (bb2['count2']==0) * (bb2['count_es_serum']==0))\n",
    "\n",
    "#This value is for ES 2i only. "
   ]
  },
  {
   "cell_type": "code",
   "execution_count": 143,
   "id": "90fec651",
   "metadata": {},
   "outputs": [
    {
     "data": {
      "text/plain": [
       "641"
      ]
     },
     "execution_count": 143,
     "metadata": {},
     "output_type": "execute_result"
    }
   ],
   "source": [
    "bb2 = bioframe.count_overlaps(df_es_2i1_ctcf, df_npc1_ctcf, cols1=['#chr','start','end'],\n",
    "                       cols2=['#chr','start','end'])\n",
    "bb2.rename(columns={'count':'count2'},inplace=True)\n",
    "bb2 = bioframe.count_overlaps(bb2, df_es_serum_ctcf\n",
    "                             \n",
    "                             , cols1=['#chr','start','end'],\n",
    "                       cols2=['#chr','start','end'])\n",
    "bb2.rename(columns={'count':'count_es_serum'},inplace=True)\n",
    "np.sum( (bb2['count2']>=1) * (bb2['count_es_serum']==0))\n",
    "\n",
    "#This value is for ES 2i and NPC."
   ]
  },
  {
   "cell_type": "code",
   "execution_count": 19,
   "id": "6a051e7d",
   "metadata": {},
   "outputs": [
    {
     "data": {
      "text/plain": [
       "1119"
      ]
     },
     "execution_count": 19,
     "metadata": {},
     "output_type": "execute_result"
    }
   ],
   "source": [
    "bb3 = bioframe.count_overlaps(df_npc1_ctcf, df_es_2i1_ctcf, cols1=['#chr','start','end'],\n",
    "                       cols2=['#chr','start','end'])\n",
    "bb3.rename(columns={'count':'count3'},inplace=True)\n",
    "bb3 = bioframe.count_overlaps(bb3, df_es_serum_ctcf\n",
    "                             \n",
    "                             , cols1=['#chr','start','end'],\n",
    "                       cols2=['#chr','start','end'])\n",
    "bb3.rename(columns={'count':'count_es_serum'},inplace=True)\n",
    "np.sum( (bb3['count3']==0) * (bb3['count_es_serum']==0))\n",
    "\n",
    "#This value is for NPC only. "
   ]
  },
  {
   "cell_type": "code",
   "execution_count": 144,
   "id": "8dc46c4a",
   "metadata": {},
   "outputs": [
    {
     "data": {
      "text/plain": [
       "646"
      ]
     },
     "execution_count": 144,
     "metadata": {},
     "output_type": "execute_result"
    }
   ],
   "source": [
    "bb3 = bioframe.count_overlaps(df_npc1_ctcf, df_es_2i1_ctcf, cols1=['#chr','start','end'],\n",
    "                       cols2=['#chr','start','end'])\n",
    "bb3.rename(columns={'count':'count3'},inplace=True)\n",
    "bb3 = bioframe.count_overlaps(bb3, df_es_serum_ctcf\n",
    "                             \n",
    "                             , cols1=['#chr','start','end'],\n",
    "                       cols2=['#chr','start','end'])\n",
    "bb3.rename(columns={'count':'count_es_serum'},inplace=True)\n",
    "np.sum((bb3['count3']>=1) * (bb3['count_es_serum']==0))\n",
    "\n",
    "#This value is for NPC and ES_2i. \n",
    "#I am not sure I understand why I get two different values when I switch the data frame order and am doing left join essentially. "
   ]
  },
  {
   "cell_type": "code",
   "execution_count": 159,
   "id": "595db87d",
   "metadata": {},
   "outputs": [
    {
     "data": {
      "text/html": [
       "<div>\n",
       "<style scoped>\n",
       "    .dataframe tbody tr th:only-of-type {\n",
       "        vertical-align: middle;\n",
       "    }\n",
       "\n",
       "    .dataframe tbody tr th {\n",
       "        vertical-align: top;\n",
       "    }\n",
       "\n",
       "    .dataframe thead th {\n",
       "        text-align: right;\n",
       "    }\n",
       "</style>\n",
       "<table border=\"1\" class=\"dataframe\">\n",
       "  <thead>\n",
       "    <tr style=\"text-align: right;\">\n",
       "      <th></th>\n",
       "      <th>#chr</th>\n",
       "      <th>start</th>\n",
       "      <th>end</th>\n",
       "      <th>name</th>\n",
       "      <th>score</th>\n",
       "      <th>signalValue</th>\n",
       "      <th>pValue</th>\n",
       "      <th>qValue</th>\n",
       "      <th>peak</th>\n",
       "    </tr>\n",
       "  </thead>\n",
       "  <tbody>\n",
       "    <tr>\n",
       "      <th>0</th>\n",
       "      <td>chr1</td>\n",
       "      <td>3002708</td>\n",
       "      <td>3002871</td>\n",
       "      <td>Project004-IPSHOCH-Exp5-ChIP-ES-2i-CTCF-IP-Blo...</td>\n",
       "      <td>170</td>\n",
       "      <td>9.50311</td>\n",
       "      <td>17.04867</td>\n",
       "      <td>14.64283</td>\n",
       "      <td>49</td>\n",
       "    </tr>\n",
       "    <tr>\n",
       "      <th>1</th>\n",
       "      <td>chr1</td>\n",
       "      <td>4132662</td>\n",
       "      <td>4132954</td>\n",
       "      <td>Project004-IPSHOCH-Exp5-ChIP-ES-2i-CTCF-IP-Blo...</td>\n",
       "      <td>631</td>\n",
       "      <td>24.46086</td>\n",
       "      <td>63.14300</td>\n",
       "      <td>60.10382</td>\n",
       "      <td>144</td>\n",
       "    </tr>\n",
       "    <tr>\n",
       "      <th>2</th>\n",
       "      <td>chr1</td>\n",
       "      <td>4163475</td>\n",
       "      <td>4163685</td>\n",
       "      <td>Project004-IPSHOCH-Exp5-ChIP-ES-2i-CTCF-IP-Blo...</td>\n",
       "      <td>239</td>\n",
       "      <td>12.14286</td>\n",
       "      <td>23.90226</td>\n",
       "      <td>21.38447</td>\n",
       "      <td>65</td>\n",
       "    </tr>\n",
       "    <tr>\n",
       "      <th>3</th>\n",
       "      <td>chr1</td>\n",
       "      <td>4218330</td>\n",
       "      <td>4218547</td>\n",
       "      <td>Project004-IPSHOCH-Exp5-ChIP-ES-2i-CTCF-IP-Blo...</td>\n",
       "      <td>357</td>\n",
       "      <td>16.36646</td>\n",
       "      <td>35.79780</td>\n",
       "      <td>33.11425</td>\n",
       "      <td>103</td>\n",
       "    </tr>\n",
       "    <tr>\n",
       "      <th>4</th>\n",
       "      <td>chr1</td>\n",
       "      <td>4322616</td>\n",
       "      <td>4322910</td>\n",
       "      <td>Project004-IPSHOCH-Exp5-ChIP-ES-2i-CTCF-IP-Blo...</td>\n",
       "      <td>436</td>\n",
       "      <td>19.00621</td>\n",
       "      <td>43.69802</td>\n",
       "      <td>40.90810</td>\n",
       "      <td>146</td>\n",
       "    </tr>\n",
       "    <tr>\n",
       "      <th>...</th>\n",
       "      <td>...</td>\n",
       "      <td>...</td>\n",
       "      <td>...</td>\n",
       "      <td>...</td>\n",
       "      <td>...</td>\n",
       "      <td>...</td>\n",
       "      <td>...</td>\n",
       "      <td>...</td>\n",
       "      <td>...</td>\n",
       "    </tr>\n",
       "    <tr>\n",
       "      <th>56133</th>\n",
       "      <td>chrX</td>\n",
       "      <td>166428012</td>\n",
       "      <td>166428519</td>\n",
       "      <td>Project004-IPSHOCH-Exp5-ChIP-ES-2i-CTCF-IP-Blo...</td>\n",
       "      <td>2343</td>\n",
       "      <td>28.03885</td>\n",
       "      <td>234.36502</td>\n",
       "      <td>228.97180</td>\n",
       "      <td>247</td>\n",
       "    </tr>\n",
       "    <tr>\n",
       "      <th>56134</th>\n",
       "      <td>chrY</td>\n",
       "      <td>209430</td>\n",
       "      <td>209604</td>\n",
       "      <td>Project004-IPSHOCH-Exp5-ChIP-ES-2i-CTCF-IP-Blo...</td>\n",
       "      <td>197</td>\n",
       "      <td>10.55901</td>\n",
       "      <td>19.72768</td>\n",
       "      <td>17.27358</td>\n",
       "      <td>65</td>\n",
       "    </tr>\n",
       "    <tr>\n",
       "      <th>56135</th>\n",
       "      <td>chrY</td>\n",
       "      <td>556526</td>\n",
       "      <td>556763</td>\n",
       "      <td>Project004-IPSHOCH-Exp5-ChIP-ES-2i-CTCF-IP-Blo...</td>\n",
       "      <td>364</td>\n",
       "      <td>12.81250</td>\n",
       "      <td>36.41721</td>\n",
       "      <td>33.72281</td>\n",
       "      <td>104</td>\n",
       "    </tr>\n",
       "    <tr>\n",
       "      <th>56136</th>\n",
       "      <td>chrY</td>\n",
       "      <td>2781654</td>\n",
       "      <td>2782065</td>\n",
       "      <td>Project004-IPSHOCH-Exp5-ChIP-ES-2i-CTCF-IP-Blo...</td>\n",
       "      <td>970</td>\n",
       "      <td>5.31780</td>\n",
       "      <td>97.06052</td>\n",
       "      <td>93.55126</td>\n",
       "      <td>199</td>\n",
       "    </tr>\n",
       "    <tr>\n",
       "      <th>56137</th>\n",
       "      <td>chrY</td>\n",
       "      <td>2891014</td>\n",
       "      <td>2891250</td>\n",
       "      <td>Project004-IPSHOCH-Exp5-ChIP-ES-2i-CTCF-IP-Blo...</td>\n",
       "      <td>464</td>\n",
       "      <td>7.24221</td>\n",
       "      <td>46.40322</td>\n",
       "      <td>43.58331</td>\n",
       "      <td>116</td>\n",
       "    </tr>\n",
       "  </tbody>\n",
       "</table>\n",
       "<p>56138 rows × 9 columns</p>\n",
       "</div>"
      ],
      "text/plain": [
       "       #chr      start        end  \\\n",
       "0      chr1    3002708    3002871   \n",
       "1      chr1    4132662    4132954   \n",
       "2      chr1    4163475    4163685   \n",
       "3      chr1    4218330    4218547   \n",
       "4      chr1    4322616    4322910   \n",
       "...     ...        ...        ...   \n",
       "56133  chrX  166428012  166428519   \n",
       "56134  chrY     209430     209604   \n",
       "56135  chrY     556526     556763   \n",
       "56136  chrY    2781654    2782065   \n",
       "56137  chrY    2891014    2891250   \n",
       "\n",
       "                                                    name  score  signalValue  \\\n",
       "0      Project004-IPSHOCH-Exp5-ChIP-ES-2i-CTCF-IP-Blo...    170      9.50311   \n",
       "1      Project004-IPSHOCH-Exp5-ChIP-ES-2i-CTCF-IP-Blo...    631     24.46086   \n",
       "2      Project004-IPSHOCH-Exp5-ChIP-ES-2i-CTCF-IP-Blo...    239     12.14286   \n",
       "3      Project004-IPSHOCH-Exp5-ChIP-ES-2i-CTCF-IP-Blo...    357     16.36646   \n",
       "4      Project004-IPSHOCH-Exp5-ChIP-ES-2i-CTCF-IP-Blo...    436     19.00621   \n",
       "...                                                  ...    ...          ...   \n",
       "56133  Project004-IPSHOCH-Exp5-ChIP-ES-2i-CTCF-IP-Blo...   2343     28.03885   \n",
       "56134  Project004-IPSHOCH-Exp5-ChIP-ES-2i-CTCF-IP-Blo...    197     10.55901   \n",
       "56135  Project004-IPSHOCH-Exp5-ChIP-ES-2i-CTCF-IP-Blo...    364     12.81250   \n",
       "56136  Project004-IPSHOCH-Exp5-ChIP-ES-2i-CTCF-IP-Blo...    970      5.31780   \n",
       "56137  Project004-IPSHOCH-Exp5-ChIP-ES-2i-CTCF-IP-Blo...    464      7.24221   \n",
       "\n",
       "          pValue     qValue  peak  \n",
       "0       17.04867   14.64283    49  \n",
       "1       63.14300   60.10382   144  \n",
       "2       23.90226   21.38447    65  \n",
       "3       35.79780   33.11425   103  \n",
       "4       43.69802   40.90810   146  \n",
       "...          ...        ...   ...  \n",
       "56133  234.36502  228.97180   247  \n",
       "56134   19.72768   17.27358    65  \n",
       "56135   36.41721   33.72281   104  \n",
       "56136   97.06052   93.55126   199  \n",
       "56137   46.40322   43.58331   116  \n",
       "\n",
       "[56138 rows x 9 columns]"
      ]
     },
     "execution_count": 159,
     "metadata": {},
     "output_type": "execute_result"
    }
   ],
   "source": [
    "df_es_2i1_ctcf"
   ]
  },
  {
   "cell_type": "code",
   "execution_count": 163,
   "id": "5846f3b1",
   "metadata": {},
   "outputs": [
    {
     "data": {
      "text/plain": [
       "array(['chr1', 'chr10', 'chr11', 'chr12', 'chr13', 'chr14', 'chr15',\n",
       "       'chr16', 'chr17', 'chr18', 'chr19', 'chr2', 'chr3', 'chr4', 'chr5',\n",
       "       'chr6', 'chr7', 'chr8', 'chr9', 'chrX', 'chrY'], dtype=object)"
      ]
     },
     "execution_count": 163,
     "metadata": {},
     "output_type": "execute_result"
    }
   ],
   "source": [
    "pd.unique(df_es_2i1_ctcf['#chr'])"
   ]
  },
  {
   "cell_type": "code",
   "execution_count": 164,
   "id": "b2e62ba5",
   "metadata": {},
   "outputs": [
    {
     "data": {
      "text/plain": [
       "array(['chr1', 'chr10', 'chr11', 'chr12', 'chr13', 'chr14', 'chr15',\n",
       "       'chr16', 'chr17', 'chr18', 'chr19', 'chr2', 'chr3', 'chr4', 'chr5',\n",
       "       'chr6', 'chr7', 'chr8', 'chr9', 'chrX', 'chrY'], dtype=object)"
      ]
     },
     "execution_count": 164,
     "metadata": {},
     "output_type": "execute_result"
    }
   ],
   "source": [
    "pd.unique(df_es_serum_ctcf['#chr'])"
   ]
  },
  {
   "cell_type": "code",
   "execution_count": 162,
   "id": "30a3c949",
   "metadata": {},
   "outputs": [
    {
     "data": {
      "text/plain": [
       "#chr            object\n",
       "start            int64\n",
       "end              int64\n",
       "name            object\n",
       "score            int64\n",
       "signalValue    float64\n",
       "pValue         float64\n",
       "qValue         float64\n",
       "peak             int64\n",
       "dtype: object"
      ]
     },
     "execution_count": 162,
     "metadata": {},
     "output_type": "execute_result"
    }
   ],
   "source": [
    "df_es_2i1_ctcf.dtypes"
   ]
  },
  {
   "cell_type": "code",
   "execution_count": 161,
   "id": "0f4f66c6",
   "metadata": {},
   "outputs": [
    {
     "data": {
      "text/plain": [
       "#chr            object\n",
       "start            int64\n",
       "end              int64\n",
       "name            object\n",
       "score            int64\n",
       "signalValue    float64\n",
       "pValue         float64\n",
       "qValue         float64\n",
       "peak             int64\n",
       "Unnamed: 9     float64\n",
       "Unnamed: 10    float64\n",
       "50185          float64\n",
       "dtype: object"
      ]
     },
     "execution_count": 161,
     "metadata": {},
     "output_type": "execute_result"
    }
   ],
   "source": [
    "df_es_serum_ctcf.dtypes"
   ]
  },
  {
   "cell_type": "code",
   "execution_count": 165,
   "id": "af32a47c",
   "metadata": {},
   "outputs": [
    {
     "name": "stdout",
     "output_type": "stream",
     "text": [
      "0          3002708\n",
      "1          4132662\n",
      "2          4163475\n",
      "3          4218330\n",
      "4          4322616\n",
      "           ...    \n",
      "56133    166428012\n",
      "56134       209430\n",
      "56135       556526\n",
      "56136      2781654\n",
      "56137      2891014\n",
      "Name: start, Length: 56138, dtype: int64\n",
      "0          3002642\n",
      "1          3601385\n",
      "2          4132637\n",
      "3          4218321\n",
      "4          4287277\n",
      "           ...    \n",
      "50180    166424641\n",
      "50181    166427952\n",
      "50182       556503\n",
      "50183      2781663\n",
      "50184      2890825\n",
      "Name: start, Length: 50185, dtype: int64\n"
     ]
    },
    {
     "ename": "ValueError",
     "evalue": "Can only compare identically-labeled Series objects",
     "output_type": "error",
     "traceback": [
      "\u001b[0;31m---------------------------------------------------------------------------\u001b[0m",
      "\u001b[0;31mValueError\u001b[0m                                Traceback (most recent call last)",
      "\u001b[0;32m<ipython-input-165-015da3551b66>\u001b[0m in \u001b[0;36m<module>\u001b[0;34m\u001b[0m\n\u001b[1;32m     12\u001b[0m     \u001b[0mprint\u001b[0m\u001b[0;34m(\u001b[0m\u001b[0mstart2\u001b[0m\u001b[0;34m)\u001b[0m\u001b[0;34m\u001b[0m\u001b[0;34m\u001b[0m\u001b[0m\n\u001b[1;32m     13\u001b[0m \u001b[0;34m\u001b[0m\u001b[0m\n\u001b[0;32m---> 14\u001b[0;31m     \u001b[0;32mif\u001b[0m \u001b[0;34m(\u001b[0m\u001b[0mchr1\u001b[0m \u001b[0;34m==\u001b[0m \u001b[0mchr2\u001b[0m\u001b[0;34m)\u001b[0m\u001b[0;34m:\u001b[0m\u001b[0;34m\u001b[0m\u001b[0;34m\u001b[0m\u001b[0m\n\u001b[0m\u001b[1;32m     15\u001b[0m         \u001b[0mprint\u001b[0m\u001b[0;34m(\u001b[0m\u001b[0;34m\"Bob is your uncle\"\u001b[0m\u001b[0;34m)\u001b[0m\u001b[0;34m\u001b[0m\u001b[0;34m\u001b[0m\u001b[0m\n\u001b[1;32m     16\u001b[0m \u001b[0;34m\u001b[0m\u001b[0m\n",
      "\u001b[0;32m~/opt/anaconda3/lib/python3.8/site-packages/pandas/core/ops/common.py\u001b[0m in \u001b[0;36mnew_method\u001b[0;34m(self, other)\u001b[0m\n\u001b[1;32m     67\u001b[0m         \u001b[0mother\u001b[0m \u001b[0;34m=\u001b[0m \u001b[0mitem_from_zerodim\u001b[0m\u001b[0;34m(\u001b[0m\u001b[0mother\u001b[0m\u001b[0;34m)\u001b[0m\u001b[0;34m\u001b[0m\u001b[0;34m\u001b[0m\u001b[0m\n\u001b[1;32m     68\u001b[0m \u001b[0;34m\u001b[0m\u001b[0m\n\u001b[0;32m---> 69\u001b[0;31m         \u001b[0;32mreturn\u001b[0m \u001b[0mmethod\u001b[0m\u001b[0;34m(\u001b[0m\u001b[0mself\u001b[0m\u001b[0;34m,\u001b[0m \u001b[0mother\u001b[0m\u001b[0;34m)\u001b[0m\u001b[0;34m\u001b[0m\u001b[0;34m\u001b[0m\u001b[0m\n\u001b[0m\u001b[1;32m     70\u001b[0m \u001b[0;34m\u001b[0m\u001b[0m\n\u001b[1;32m     71\u001b[0m     \u001b[0;32mreturn\u001b[0m \u001b[0mnew_method\u001b[0m\u001b[0;34m\u001b[0m\u001b[0;34m\u001b[0m\u001b[0m\n",
      "\u001b[0;32m~/opt/anaconda3/lib/python3.8/site-packages/pandas/core/arraylike.py\u001b[0m in \u001b[0;36m__eq__\u001b[0;34m(self, other)\u001b[0m\n\u001b[1;32m     30\u001b[0m     \u001b[0;34m@\u001b[0m\u001b[0munpack_zerodim_and_defer\u001b[0m\u001b[0;34m(\u001b[0m\u001b[0;34m\"__eq__\"\u001b[0m\u001b[0;34m)\u001b[0m\u001b[0;34m\u001b[0m\u001b[0;34m\u001b[0m\u001b[0m\n\u001b[1;32m     31\u001b[0m     \u001b[0;32mdef\u001b[0m \u001b[0m__eq__\u001b[0m\u001b[0;34m(\u001b[0m\u001b[0mself\u001b[0m\u001b[0;34m,\u001b[0m \u001b[0mother\u001b[0m\u001b[0;34m)\u001b[0m\u001b[0;34m:\u001b[0m\u001b[0;34m\u001b[0m\u001b[0;34m\u001b[0m\u001b[0m\n\u001b[0;32m---> 32\u001b[0;31m         \u001b[0;32mreturn\u001b[0m \u001b[0mself\u001b[0m\u001b[0;34m.\u001b[0m\u001b[0m_cmp_method\u001b[0m\u001b[0;34m(\u001b[0m\u001b[0mother\u001b[0m\u001b[0;34m,\u001b[0m \u001b[0moperator\u001b[0m\u001b[0;34m.\u001b[0m\u001b[0meq\u001b[0m\u001b[0;34m)\u001b[0m\u001b[0;34m\u001b[0m\u001b[0;34m\u001b[0m\u001b[0m\n\u001b[0m\u001b[1;32m     33\u001b[0m \u001b[0;34m\u001b[0m\u001b[0m\n\u001b[1;32m     34\u001b[0m     \u001b[0;34m@\u001b[0m\u001b[0munpack_zerodim_and_defer\u001b[0m\u001b[0;34m(\u001b[0m\u001b[0;34m\"__ne__\"\u001b[0m\u001b[0;34m)\u001b[0m\u001b[0;34m\u001b[0m\u001b[0;34m\u001b[0m\u001b[0m\n",
      "\u001b[0;32m~/opt/anaconda3/lib/python3.8/site-packages/pandas/core/series.py\u001b[0m in \u001b[0;36m_cmp_method\u001b[0;34m(self, other, op)\u001b[0m\n\u001b[1;32m   5494\u001b[0m \u001b[0;34m\u001b[0m\u001b[0m\n\u001b[1;32m   5495\u001b[0m         \u001b[0;32mif\u001b[0m \u001b[0misinstance\u001b[0m\u001b[0;34m(\u001b[0m\u001b[0mother\u001b[0m\u001b[0;34m,\u001b[0m \u001b[0mSeries\u001b[0m\u001b[0;34m)\u001b[0m \u001b[0;32mand\u001b[0m \u001b[0;32mnot\u001b[0m \u001b[0mself\u001b[0m\u001b[0;34m.\u001b[0m\u001b[0m_indexed_same\u001b[0m\u001b[0;34m(\u001b[0m\u001b[0mother\u001b[0m\u001b[0;34m)\u001b[0m\u001b[0;34m:\u001b[0m\u001b[0;34m\u001b[0m\u001b[0;34m\u001b[0m\u001b[0m\n\u001b[0;32m-> 5496\u001b[0;31m             \u001b[0;32mraise\u001b[0m \u001b[0mValueError\u001b[0m\u001b[0;34m(\u001b[0m\u001b[0;34m\"Can only compare identically-labeled Series objects\"\u001b[0m\u001b[0;34m)\u001b[0m\u001b[0;34m\u001b[0m\u001b[0;34m\u001b[0m\u001b[0m\n\u001b[0m\u001b[1;32m   5497\u001b[0m \u001b[0;34m\u001b[0m\u001b[0m\n\u001b[1;32m   5498\u001b[0m         \u001b[0mlvalues\u001b[0m \u001b[0;34m=\u001b[0m \u001b[0mself\u001b[0m\u001b[0;34m.\u001b[0m\u001b[0m_values\u001b[0m\u001b[0;34m\u001b[0m\u001b[0;34m\u001b[0m\u001b[0m\n",
      "\u001b[0;31mValueError\u001b[0m: Can only compare identically-labeled Series objects"
     ]
    }
   ],
   "source": [
    "a = 0\n",
    "for index in df_es_2i1_ctcf.index:\n",
    "    chr1 = df_es_2i1_ctcf['#chr']\n",
    "    start1 = df_es_2i1_ctcf.start\n",
    "    end1 = df_es_2i1_ctcf.end\n",
    "    for index in df_es_serum_ctcf.index:\n",
    "        chr2 = df_es_serum_ctcf['#chr']\n",
    "        start2 = df_es_serum_ctcf.start\n",
    "        end2 = df_es_serum_ctcf.end\n",
    "    \n",
    "    print(start1)\n",
    "    print(start2)\n",
    "    \n",
    "    if (chr1 == chr2):\n",
    "        print(\"Bob is your uncle\")\n",
    "    \n",
    "    \n",
    "    if ((chr1 == chr2) and (start2 >= start1 and start2 <= end1 or end2 >= start1 and end2 <= end1)):\n",
    "       a = a+1\n",
    "    \n",
    "print (a)\n",
    " \n"
   ]
  },
  {
   "cell_type": "code",
   "execution_count": 172,
   "id": "59a5eddc",
   "metadata": {},
   "outputs": [
    {
     "data": {
      "text/plain": [
       "'chr8'"
      ]
     },
     "execution_count": 172,
     "metadata": {},
     "output_type": "execute_result"
    }
   ],
   "source": [
    "df_es_2i1_ctcf['#chr'][index]"
   ]
  },
  {
   "cell_type": "code",
   "execution_count": 168,
   "id": "adca2323",
   "metadata": {},
   "outputs": [
    {
     "data": {
      "text/plain": [
       "RangeIndex(start=0, stop=56138, step=1)"
      ]
     },
     "execution_count": 168,
     "metadata": {},
     "output_type": "execute_result"
    }
   ],
   "source": [
    "df_es_2i1_ctcf.index"
   ]
  },
  {
   "cell_type": "code",
   "execution_count": 167,
   "id": "eba1558f",
   "metadata": {},
   "outputs": [
    {
     "data": {
      "text/plain": [
       "0        chr1\n",
       "1        chr1\n",
       "2        chr1\n",
       "3        chr1\n",
       "4        chr1\n",
       "         ... \n",
       "50180    chrX\n",
       "50181    chrX\n",
       "50182    chrY\n",
       "50183    chrY\n",
       "50184    chrY\n",
       "Name: #chr, Length: 50185, dtype: object"
      ]
     },
     "execution_count": 167,
     "metadata": {},
     "output_type": "execute_result"
    }
   ],
   "source": [
    "chr2#, start2"
   ]
  },
  {
   "cell_type": "raw",
   "id": "7b707f97",
   "metadata": {},
   "source": [
    "chr1"
   ]
  },
  {
   "cell_type": "code",
   "execution_count": null,
   "id": "d275f912",
   "metadata": {},
   "outputs": [],
   "source": []
  },
  {
   "cell_type": "code",
   "execution_count": 48,
   "id": "96e59162",
   "metadata": {},
   "outputs": [
    {
     "ename": "NameError",
     "evalue": "name 'a' is not defined",
     "output_type": "error",
     "traceback": [
      "\u001b[0;31m---------------------------------------------------------------------------\u001b[0m",
      "\u001b[0;31mNameError\u001b[0m                                 Traceback (most recent call last)",
      "\u001b[0;32m<ipython-input-48-185d0c195ccf>\u001b[0m in \u001b[0;36m<module>\u001b[0;34m\u001b[0m\n\u001b[0;32m----> 1\u001b[0;31m \u001b[0mbioframe\u001b[0m\u001b[0;34m.\u001b[0m\u001b[0moverlap\u001b[0m\u001b[0;34m(\u001b[0m \u001b[0mbioframe\u001b[0m\u001b[0;34m.\u001b[0m\u001b[0moverlap\u001b[0m\u001b[0;34m(\u001b[0m \u001b[0ma\u001b[0m\u001b[0;34m,\u001b[0m \u001b[0mb\u001b[0m\u001b[0;34m)\u001b[0m\u001b[0;34m,\u001b[0m \u001b[0mc\u001b[0m\u001b[0;34m)\u001b[0m\u001b[0;34m\u001b[0m\u001b[0;34m\u001b[0m\u001b[0m\n\u001b[0m",
      "\u001b[0;31mNameError\u001b[0m: name 'a' is not defined"
     ]
    }
   ],
   "source": [
    "bioframe.overlap( bioframe.overlap( a, b), c)"
   ]
  },
  {
   "cell_type": "code",
   "execution_count": 111,
   "id": "069b2f9b",
   "metadata": {},
   "outputs": [
    {
     "name": "stdout",
     "output_type": "stream",
     "text": [
      "   #chr  start  end  count\n",
      "0  chr1      1    2      0\n",
      "1  chr1      3    4      0\n",
      "2  chr1      8    9      1\n",
      "3  chr1     12   13      0\n",
      "   #chr  start  end  count\n",
      "0  chr1      1    2      0\n",
      "1  chr1      3    4      0\n",
      "2  chr1      8    9      1\n",
      "3  chr1     12   13      0\n"
     ]
    },
    {
     "ename": "NameError",
     "evalue": "name 's' is not defined",
     "output_type": "error",
     "traceback": [
      "\u001b[0;31m---------------------------------------------------------------------------\u001b[0m",
      "\u001b[0;31mNameError\u001b[0m                                 Traceback (most recent call last)",
      "\u001b[0;32m<ipython-input-111-8d91860a7ca1>\u001b[0m in \u001b[0;36m<module>\u001b[0;34m\u001b[0m\n\u001b[1;32m     39\u001b[0m \u001b[0;31m#s = np.sum((bb3['count']==1))\u001b[0m\u001b[0;34m\u001b[0m\u001b[0;34m\u001b[0m\u001b[0;34m\u001b[0m\u001b[0m\n\u001b[1;32m     40\u001b[0m \u001b[0mprint\u001b[0m \u001b[0;34m(\u001b[0m\u001b[0mbb3\u001b[0m\u001b[0;34m)\u001b[0m\u001b[0;34m\u001b[0m\u001b[0;34m\u001b[0m\u001b[0m\n\u001b[0;32m---> 41\u001b[0;31m \u001b[0mprint\u001b[0m \u001b[0;34m(\u001b[0m\u001b[0ms\u001b[0m\u001b[0;34m)\u001b[0m\u001b[0;34m\u001b[0m\u001b[0;34m\u001b[0m\u001b[0m\n\u001b[0m\u001b[1;32m     42\u001b[0m \u001b[0;34m\u001b[0m\u001b[0m\n\u001b[1;32m     43\u001b[0m \u001b[0;34m\u001b[0m\u001b[0m\n",
      "\u001b[0;31mNameError\u001b[0m: name 's' is not defined"
     ]
    }
   ],
   "source": [
    "import bioframe \n",
    "df1 = pd.DataFrame([\n",
    "    ['chr1', 1, 2],\n",
    "    ['chr1', 3, 4],\n",
    "    ['chr1', 8, 9],\n",
    "    ['chr1', 12, 13],\n",
    "    ],\n",
    "    columns=['#chr', 'start', 'end']\n",
    ")\n",
    "df2 = pd.DataFrame([\n",
    "    ['chr1', 0, 0],\n",
    "    ['chr1', 8, 9],\n",
    "    ['chr1', 9, 10],\n",
    "    ['chr1', 9, 10],\n",
    "    ['chr1', 9, 10],\n",
    "    ['chr1', 11, 11],\n",
    "    ['chr1', 14, 14],\n",
    "    ],\n",
    "    columns=['#chr', 'start', 'end']\n",
    ")\n",
    "df3 = pd.DataFrame([\n",
    "    ['chr1', 0, 10],\n",
    "    ['chr1', 8, 9],\n",
    "    ['chr1', 9, 10],\n",
    "    ['chr1', 9, 10],\n",
    "    ['chr1', 9, 9],\n",
    "    ['chr1', 10, 10],\n",
    "    ['chr1', 14, 15],\n",
    "    ],\n",
    "    columns=['#chr', 'start', 'end']\n",
    ")\n",
    "\n",
    "bb3 = bioframe.count_overlaps(df1, df2, cols1=['#chr','start','end'],cols2=['#chr','start','end'])\n",
    "\n",
    "print (bb3)\n",
    "#bb3 = bioframe.count_overlaps(bb3, df3, cols1=['#chr','start','end'],\n",
    "                 #      cols2=['#chr','start','end'])\n",
    "#bb3.rename(columns={'count':'overlap2'},inplace=True)\n",
    "#s = np.sum((bb3['count']==1))\n",
    "print (bb3)\n",
    "\n",
    "\n",
    "\n",
    "\n",
    "              \n"
   ]
  },
  {
   "cell_type": "code",
   "execution_count": null,
   "id": "54f4fa90",
   "metadata": {},
   "outputs": [],
   "source": []
  },
  {
   "cell_type": "code",
   "execution_count": 60,
   "id": "db76f238",
   "metadata": {},
   "outputs": [
    {
     "data": {
      "image/png": "[encoded data removed]",
      "text/plain": [
       "<Figure size 432x288 with 1 Axes>"
      ]
     },
     "metadata": {},
     "output_type": "display_data"
    }
   ],
   "source": [
    "import matplotlib.pyplot as plt\n",
    "from matplotlib_venn import venn3\n",
    "\n",
    "npconly = df_npc2_ctcf.shape[0]\n",
    "es2ionly = df_es2i2_ctcf.shape[0]\n",
    "es2iess = df_es2iess_ctcf.shape[0]\n",
    "all = df_all_peaks.shape[0]\n",
    "\n",
    "venn3(subsets = (npconly,es2ionly,641, es2iess, 416, 2068, all), set_labels = ('NPC', 'ES2i', \"ES Serum\"))\n",
    "plt.show()\n",
    "\n",
    "#Upset plots seem useful, but I wanted to recreate the venn diagram. Here it is. "
   ]
  },
  {
   "cell_type": "markdown",
   "id": "f947e10f",
   "metadata": {},
   "source": [
    "## Function calls to identify overlaps. "
   ]
  },
  {
   "cell_type": "code",
   "execution_count": 123,
   "id": "1bd3d61f",
   "metadata": {},
   "outputs": [
    {
     "name": "stdout",
     "output_type": "stream",
     "text": [
      "0    chr1\n",
      "1    chr1\n",
      "2    chr1\n",
      "3    chr1\n",
      "Name: #chr, dtype: object\n"
     ]
    },
    {
     "ename": "ValueError",
     "evalue": "Can only compare identically-labeled Series objects",
     "output_type": "error",
     "traceback": [
      "\u001b[0;31m---------------------------------------------------------------------------\u001b[0m",
      "\u001b[0;31mValueError\u001b[0m                                Traceback (most recent call last)",
      "\u001b[0;32m<ipython-input-123-6b697bf1a29f>\u001b[0m in \u001b[0;36m<module>\u001b[0;34m\u001b[0m\n\u001b[1;32m    198\u001b[0m \u001b[0;34m\u001b[0m\u001b[0m\n\u001b[1;32m    199\u001b[0m \u001b[0;34m\u001b[0m\u001b[0m\n\u001b[0;32m--> 200\u001b[0;31m \u001b[0monlydf1\u001b[0m\u001b[0;34m(\u001b[0m\u001b[0mdf1\u001b[0m\u001b[0;34m,\u001b[0m\u001b[0mdf2\u001b[0m\u001b[0;34m,\u001b[0m\u001b[0mdf3\u001b[0m\u001b[0;34m)\u001b[0m\u001b[0;34m\u001b[0m\u001b[0;34m\u001b[0m\u001b[0m\n\u001b[0m\u001b[1;32m    201\u001b[0m \u001b[0;34m\u001b[0m\u001b[0m\n\u001b[1;32m    202\u001b[0m \u001b[0;34m\u001b[0m\u001b[0m\n",
      "\u001b[0;32m<ipython-input-123-6b697bf1a29f>\u001b[0m in \u001b[0;36monlydf1\u001b[0;34m(df1, df2, df3)\u001b[0m\n\u001b[1;32m     43\u001b[0m             \u001b[0mstart3\u001b[0m \u001b[0;34m=\u001b[0m \u001b[0mdf3\u001b[0m\u001b[0;34m.\u001b[0m\u001b[0mstart\u001b[0m\u001b[0;34m\u001b[0m\u001b[0;34m\u001b[0m\u001b[0m\n\u001b[1;32m     44\u001b[0m             \u001b[0mend3\u001b[0m \u001b[0;34m=\u001b[0m \u001b[0mdf3\u001b[0m\u001b[0;34m.\u001b[0m\u001b[0mend\u001b[0m\u001b[0;34m\u001b[0m\u001b[0;34m\u001b[0m\u001b[0m\n\u001b[0;32m---> 45\u001b[0;31m             \u001b[0;32mif\u001b[0m \u001b[0;34m(\u001b[0m\u001b[0mchr1\u001b[0m \u001b[0;34m!=\u001b[0m \u001b[0mchr2\u001b[0m \u001b[0;32mand\u001b[0m \u001b[0mchr1\u001b[0m \u001b[0;34m!=\u001b[0m \u001b[0mchr3\u001b[0m\u001b[0;34m)\u001b[0m\u001b[0;34m:\u001b[0m\u001b[0;34m\u001b[0m\u001b[0;34m\u001b[0m\u001b[0m\n\u001b[0m\u001b[1;32m     46\u001b[0m                 \u001b[0mcount\u001b[0m \u001b[0;34m=\u001b[0m \u001b[0mcount\u001b[0m\u001b[0;34m+\u001b[0m\u001b[0;36m1\u001b[0m\u001b[0;34m\u001b[0m\u001b[0;34m\u001b[0m\u001b[0m\n\u001b[1;32m     47\u001b[0m             \u001b[0;32mif\u001b[0m \u001b[0;34m(\u001b[0m\u001b[0;34m(\u001b[0m\u001b[0mchr1\u001b[0m \u001b[0;34m==\u001b[0m \u001b[0mchr2\u001b[0m\u001b[0;34m)\u001b[0m \u001b[0;32mand\u001b[0m \u001b[0;34m(\u001b[0m\u001b[0mstart1\u001b[0m \u001b[0;34m<\u001b[0m \u001b[0mstart2\u001b[0m \u001b[0;32mor\u001b[0m \u001b[0mstart1\u001b[0m \u001b[0;34m>\u001b[0m \u001b[0mend2\u001b[0m \u001b[0;32mand\u001b[0m \u001b[0mend1\u001b[0m \u001b[0;34m<\u001b[0m \u001b[0mstart2\u001b[0m \u001b[0;32mor\u001b[0m \u001b[0mend1\u001b[0m \u001b[0;34m<\u001b[0m \u001b[0mstart2\u001b[0m\u001b[0;34m)\u001b[0m\u001b[0;34m)\u001b[0m\u001b[0;34m:\u001b[0m\u001b[0;34m\u001b[0m\u001b[0;34m\u001b[0m\u001b[0m\n",
      "\u001b[0;32m~/opt/anaconda3/lib/python3.8/site-packages/pandas/core/ops/common.py\u001b[0m in \u001b[0;36mnew_method\u001b[0;34m(self, other)\u001b[0m\n\u001b[1;32m     67\u001b[0m         \u001b[0mother\u001b[0m \u001b[0;34m=\u001b[0m \u001b[0mitem_from_zerodim\u001b[0m\u001b[0;34m(\u001b[0m\u001b[0mother\u001b[0m\u001b[0;34m)\u001b[0m\u001b[0;34m\u001b[0m\u001b[0;34m\u001b[0m\u001b[0m\n\u001b[1;32m     68\u001b[0m \u001b[0;34m\u001b[0m\u001b[0m\n\u001b[0;32m---> 69\u001b[0;31m         \u001b[0;32mreturn\u001b[0m \u001b[0mmethod\u001b[0m\u001b[0;34m(\u001b[0m\u001b[0mself\u001b[0m\u001b[0;34m,\u001b[0m \u001b[0mother\u001b[0m\u001b[0;34m)\u001b[0m\u001b[0;34m\u001b[0m\u001b[0;34m\u001b[0m\u001b[0m\n\u001b[0m\u001b[1;32m     70\u001b[0m \u001b[0;34m\u001b[0m\u001b[0m\n\u001b[1;32m     71\u001b[0m     \u001b[0;32mreturn\u001b[0m \u001b[0mnew_method\u001b[0m\u001b[0;34m\u001b[0m\u001b[0;34m\u001b[0m\u001b[0m\n",
      "\u001b[0;32m~/opt/anaconda3/lib/python3.8/site-packages/pandas/core/arraylike.py\u001b[0m in \u001b[0;36m__ne__\u001b[0;34m(self, other)\u001b[0m\n\u001b[1;32m     34\u001b[0m     \u001b[0;34m@\u001b[0m\u001b[0munpack_zerodim_and_defer\u001b[0m\u001b[0;34m(\u001b[0m\u001b[0;34m\"__ne__\"\u001b[0m\u001b[0;34m)\u001b[0m\u001b[0;34m\u001b[0m\u001b[0;34m\u001b[0m\u001b[0m\n\u001b[1;32m     35\u001b[0m     \u001b[0;32mdef\u001b[0m \u001b[0m__ne__\u001b[0m\u001b[0;34m(\u001b[0m\u001b[0mself\u001b[0m\u001b[0;34m,\u001b[0m \u001b[0mother\u001b[0m\u001b[0;34m)\u001b[0m\u001b[0;34m:\u001b[0m\u001b[0;34m\u001b[0m\u001b[0;34m\u001b[0m\u001b[0m\n\u001b[0;32m---> 36\u001b[0;31m         \u001b[0;32mreturn\u001b[0m \u001b[0mself\u001b[0m\u001b[0;34m.\u001b[0m\u001b[0m_cmp_method\u001b[0m\u001b[0;34m(\u001b[0m\u001b[0mother\u001b[0m\u001b[0;34m,\u001b[0m \u001b[0moperator\u001b[0m\u001b[0;34m.\u001b[0m\u001b[0mne\u001b[0m\u001b[0;34m)\u001b[0m\u001b[0;34m\u001b[0m\u001b[0;34m\u001b[0m\u001b[0m\n\u001b[0m\u001b[1;32m     37\u001b[0m \u001b[0;34m\u001b[0m\u001b[0m\n\u001b[1;32m     38\u001b[0m     \u001b[0;34m@\u001b[0m\u001b[0munpack_zerodim_and_defer\u001b[0m\u001b[0;34m(\u001b[0m\u001b[0;34m\"__lt__\"\u001b[0m\u001b[0;34m)\u001b[0m\u001b[0;34m\u001b[0m\u001b[0;34m\u001b[0m\u001b[0m\n",
      "\u001b[0;32m~/opt/anaconda3/lib/python3.8/site-packages/pandas/core/series.py\u001b[0m in \u001b[0;36m_cmp_method\u001b[0;34m(self, other, op)\u001b[0m\n\u001b[1;32m   5494\u001b[0m \u001b[0;34m\u001b[0m\u001b[0m\n\u001b[1;32m   5495\u001b[0m         \u001b[0;32mif\u001b[0m \u001b[0misinstance\u001b[0m\u001b[0;34m(\u001b[0m\u001b[0mother\u001b[0m\u001b[0;34m,\u001b[0m \u001b[0mSeries\u001b[0m\u001b[0;34m)\u001b[0m \u001b[0;32mand\u001b[0m \u001b[0;32mnot\u001b[0m \u001b[0mself\u001b[0m\u001b[0;34m.\u001b[0m\u001b[0m_indexed_same\u001b[0m\u001b[0;34m(\u001b[0m\u001b[0mother\u001b[0m\u001b[0;34m)\u001b[0m\u001b[0;34m:\u001b[0m\u001b[0;34m\u001b[0m\u001b[0;34m\u001b[0m\u001b[0m\n\u001b[0;32m-> 5496\u001b[0;31m             \u001b[0;32mraise\u001b[0m \u001b[0mValueError\u001b[0m\u001b[0;34m(\u001b[0m\u001b[0;34m\"Can only compare identically-labeled Series objects\"\u001b[0m\u001b[0;34m)\u001b[0m\u001b[0;34m\u001b[0m\u001b[0;34m\u001b[0m\u001b[0m\n\u001b[0m\u001b[1;32m   5497\u001b[0m \u001b[0;34m\u001b[0m\u001b[0m\n\u001b[1;32m   5498\u001b[0m         \u001b[0mlvalues\u001b[0m \u001b[0;34m=\u001b[0m \u001b[0mself\u001b[0m\u001b[0;34m.\u001b[0m\u001b[0m_values\u001b[0m\u001b[0;34m\u001b[0m\u001b[0;34m\u001b[0m\u001b[0m\n",
      "\u001b[0;31mValueError\u001b[0m: Can only compare identically-labeled Series objects"
     ]
    }
   ],
   "source": [
    "import pandas as pd\n",
    "\n",
    "df1 = pd.DataFrame([\n",
    "    ['chr1', 1, 2],\n",
    "    ['chr1', 3, 4],\n",
    "    ['chr1', 8, 9],\n",
    "    ['chr1', 12, 13]\n",
    "    ],\n",
    "    columns=['#chr', 'start', 'end']\n",
    ")\n",
    "df2 = pd.DataFrame([\n",
    "    ['chr1', 0, 3],\n",
    "    ['chr1', 4, 6],\n",
    "    ['chr1', 7, 9],\n",
    "    ],\n",
    "    columns=['#chr', 'start', 'end']\n",
    ")\n",
    "df3 = pd.DataFrame([\n",
    "    ['chr1', 0, 4],\n",
    "    ['chr1', 5, 8],\n",
    "    ['chr1', 10, 12],\n",
    "    ],\n",
    "    columns=['#chr', 'start', 'end']\n",
    ")\n",
    "\n",
    "## Use count_overlaps - still need outer loop over outer larger data frames. Input as list and then df1(df1,df2) and df2(df1,df3) then loop over that list. \n",
    "## Itertools - cool python library - google for an option \n",
    "## Have the list and generate the combination of indices and iterate over pairs by going through indicies \n",
    "## Tuples and enumerate to iterate through different data frames \n",
    " \n",
    "def onlydf1(df1, df2, df3):\n",
    "    for index in df1.index:\n",
    "        count = 0\n",
    "        chr1 = df1['#chr']\n",
    "        print (chr1)\n",
    "        start1 = df1.start\n",
    "        end1 = df1.end\n",
    "        for index in df2.index:\n",
    "            chr2 = df2['#chr']\n",
    "            start2 = df2.start\n",
    "            end2 = df2.end\n",
    "            chr3 = df3['#chr']\n",
    "            start3 = df3.start\n",
    "            end3 = df3.end\n",
    "            if (chr1 != chr2 and chr1 != chr3):\n",
    "                count = count+1\n",
    "            if ((chr1 == chr2) and (start1 < start2 or start1 > end2 and end1 < start2 or end1 < start2)):\n",
    "                if((chr1 == chr3) and (start1 < start3 or start1 > end3 and end1 < start3 or end1 < start3)):\n",
    "                    count = count+1\n",
    "    return (count)\n",
    "\n",
    "def onlydf2(df1, df2, df3):\n",
    "    count = 0\n",
    "    for index0 in df2.index0:\n",
    "        chr2 = df2['#chr']\n",
    "        start2 = df2.start\n",
    "        end2 = df2.end\n",
    "        for index1 in df3.index1:\n",
    "            chr1 = df1['#chr']\n",
    "            start1 = df1.start\n",
    "            end1 = df1.end\n",
    "            chr3 = df3['#chr']\n",
    "            start3 = df3.start\n",
    "            end3 = df3.end\n",
    "            if (chr2 != chr1 and chr2 != chr3):\n",
    "                count = count+1\n",
    "            if ((chr1 == chr2) and (start2 < start1 or start2 > end1 and end2 < start1 or end2 < start1)):\n",
    "                if((chr1 == chr3) and (start2 < start3 or start2 > end3 and end2 < start3 or end2 < start3)):\n",
    "                    count = count+1\n",
    "    return (count)\n",
    "\n",
    "def onlydf3(df1, df2, df3):\n",
    "    count = 0\n",
    "    for index0 in df3.index0:\n",
    "        chr3 = df3['#chr']\n",
    "        start3 = df3.start\n",
    "        end3 = df3.end\n",
    "        for index1 in df3.index1:\n",
    "            chr1 = df1['#chr']\n",
    "            start1 = df1.start\n",
    "            end1 = df1.end\n",
    "            chr2 = df2['#chr']\n",
    "            start2 = df2.start\n",
    "            end2 = df2.end\n",
    "            if (chr3 != chr1 and chr3 != chr2):\n",
    "                count = count+1\n",
    "            if ((chr3 == chr2) and (start3 < start2 or start3 > end2 and end3 < start2 or end3 < start2)):\n",
    "                if((chr3 == chr1) and (start3 < start1 or start3 > end1 and end3 < start2 or end3 < start2)):\n",
    "                    count = count+1\n",
    "    return (count)\n",
    "\n",
    "def overlap0(df1, df2, df3):\n",
    "    df4\n",
    "    ##for loop to iterate over all genomic intervals and compare each interval to other dfs \n",
    "    ##this fails to account for comparing dfs of different sizes\n",
    "    for index0 in df1.index0:\n",
    "        count = 0\n",
    "        chr1 = df1['#chr']\n",
    "        start1 = df1.start\n",
    "        end1 = df1.end\n",
    "        for index1 in df2.index1:\n",
    "            chr2 = df2['#chr']\n",
    "            start2 = df2.start\n",
    "            end2 = df2.end.index1\n",
    "            chr3 = df3['#chr']\n",
    "            start3 = df3.start\n",
    "            end3 = df3.end.index1\n",
    "            ##creation of 2d array to store values\n",
    "            if ((chr1 == chr2) and (start1 < start2 or start1 > end2 and end1 < start2 or end1 < start2)):\n",
    "                if((chr1 == chr3) and (start1 < start3 or start1 > end3 and end1 < start3 or end1 < start3)):\n",
    "                    df4[index0][index1] = 1\n",
    "    count = 0\n",
    "    \n",
    "    for index1 in df4.index1: \n",
    "        count = count + df4.index1\n",
    "    return (count)\n",
    "\n",
    "def overlap1(df1, df2, df3):\n",
    "    df4\n",
    "    ##for loop to iterate over all genomic intervals and compare each interval to other dfs \n",
    "    ##this fails to account for comparing dfs of different sizes\n",
    "    for index0 in df1.index0:\n",
    "        count = 0\n",
    "        chr1 = df1['#chr']\n",
    "        start1 = df1.start\n",
    "        end1 = df1.end\n",
    "        for index1 in df2.index1:\n",
    "            chr2 = df2['#chr']\n",
    "            start2 = df2.start\n",
    "            end2 = df2.end.index1\n",
    "            chr3 = df3['#chr']\n",
    "            start3 = df3.start\n",
    "            end3 = df3.end.index1\n",
    "            ##creation of 2d array to store values\n",
    "            if ((chr1 == chr2) and (start1 < start2 or start1 > end2 and end1 < start2 or end1 < start2)):\n",
    "                if((chr1 == chr3) and (start1 < start3 or start1 > end3 and end1 < start3 or end1 < start3)):\n",
    "                    df4[index0][index1] = 1\n",
    "    count = 0\n",
    "    ##sum all values in order to determine count_overlaps\n",
    "    for index1 in df4.index1: \n",
    "        count = count + df4.index1\n",
    "        \n",
    "    return (count)\n",
    "\n",
    "def overlap2(df1, df2, df3):\n",
    "    df4\n",
    "    ##for loop to iterate over all genomic intervals and compare each interval to other dfs \n",
    "    ##this fails to account for comparing dfs of different sizes\n",
    "    for index0 in df1.index0:\n",
    "        count = 0\n",
    "        chr1 = df1['#chr']\n",
    "        start1 = df1.start\n",
    "        end1 = df1.end\n",
    "        for index1 in df2.index1:\n",
    "            chr2 = df2['#chr']\n",
    "            start2 = df2.start\n",
    "            end2 = df2.end.index1\n",
    "            chr3 = df3['#chr']\n",
    "            start3 = df3.start\n",
    "            end3 = df3.end.index1\n",
    "            ##creation of 2d array to store values\n",
    "            if ((chr1 == chr2) and (start1 < start2 or start1 > end2 and end1 < start2 or end1 < start2)):\n",
    "                if((chr1 == chr3) and (start1 < start3 or start1 > end3 and end1 < start3 or end1 < start3)):\n",
    "                    df4[index0][index1] = 1\n",
    "    count = 0\n",
    "    ##sum all values in order to determine count_overlaps\n",
    "    for index1 in df4.index1: \n",
    "        count = count + df4.index1\n",
    "        \n",
    "    return (count)\n",
    "\n",
    "def alloverlap(df1,df2,df3): \n",
    "    df4\n",
    "    ##for loop to iterate over all genomic intervals and compare each interval to other dfs \n",
    "    ##this fails to account for comparing dfs of different sizes\n",
    "    for index0 in df1.index0:\n",
    "        count = 0\n",
    "        chr1 = df1['#chr']\n",
    "        start1 = df1.start\n",
    "        end1 = df1.end\n",
    "        for index1 in df2.index1:\n",
    "            chr2 = df2['#chr']\n",
    "            start2 = df2.start\n",
    "            end2 = df2.end.index1\n",
    "            chr3 = df3['#chr']\n",
    "            start3 = df3.start\n",
    "            end3 = df3.end.index1\n",
    "            ##creation of 2d array to store values\n",
    "            if ((chr1 == chr2) and (start1 < start2 or start1 > end2 and end1 < start2 or end1 < start2)):\n",
    "                if((chr1 == chr3) and (start1 < start3 or start1 > end3 and end1 < start3 or end1 < start3)):\n",
    "                    df4[index0][index1] = 1\n",
    "    count = 0\n",
    "    ##sum all values in order to determine count_overlaps\n",
    "    for index1 in df4.index1: \n",
    "        count = count + df4.index1\n",
    "        \n",
    "    return (count)\n",
    "\n",
    "    \n",
    "onlydf1(df1,df2,df3)\n",
    "\n",
    "\n",
    "#data = pd.DataFrame(    \n",
    "    #[[1, 0, 0],\n",
    "     #[1, 0, 0],\n",
    "     #[1, 0, 0],\n",
    "     #[0, 0, 1],\n",
    "     #[0, 0 ,1],\n",
    "     #[1, 1, 1]],\n",
    "#columns=['df1','df2','df3']\n",
    "    #).astype(bool)\n",
    "\n",
    "#i = from_indicators(data)\n",
    "### prints the size of each category\n",
    "\n",
    "##print(i.groupby(i.index).size())\n",
    "### prints the multiindex for the particular category\n",
    "##grp_index = i.groupby(i.index).size().index[2]\n",
    "##print(grp_index)\n",
    "\n",
    "### print a human-readable name for overlap combination\n",
    "##n = np.array((i.index.names))\n",
    "##category_name = '-'.join(n[list(grp_index)])\n",
    "    "
   ]
  },
  {
   "cell_type": "markdown",
   "id": "1352f329",
   "metadata": {},
   "source": [
    "Programming issues: \n",
    "1) Should I just make a vector and values to it to store overlaps? How do I know the size of the vector? Should I just append and 0 or 1 depending on the overlap? Still sum all values though in order to find count\n",
    "2) What am I doing wrong comparing start and stop points? Why does it not like it? They are the same data type. Do I need to same them the same variable as well? \n",
    "\n",
    "Approach: \n",
    "Individual Counts - just compare start and stop and be exhaustive to ensure that one does not overlap and sum the total count - no need for arrays just add numbers to keep tally \n",
    "1 Overlap: Need to develop array/vector to keep track of all the values in the data frame and then iterate over only one row/column to find that value \n",
    "2 Overlap: Using same array add values for each row (how many for loops do I need here? What if I am comparing many dfs? Come up with better way)(probably need new array to store all the sums) and then compare sums with expected count to pull full overlap (sum should = total genomic intervals) -- Kinda lost on this part here need more advice \n",
    "\n",
    "Top-Level Issues: \n",
    "How do I do make this program capable of doing it for a large number of dataframes? \n"
   ]
  },
  {
   "cell_type": "code",
   "execution_count": 12,
   "id": "dbcf2d4c",
   "metadata": {},
   "outputs": [
    {
     "name": "stdout",
     "output_type": "stream",
     "text": [
      "       #chr      start        end  \\\n",
      "0      chr1    3002708    3002871   \n",
      "1      chr1    4132662    4132954   \n",
      "2      chr1    4163475    4163685   \n",
      "3      chr1    4218330    4218547   \n",
      "4      chr1    4322616    4322910   \n",
      "...     ...        ...        ...   \n",
      "28855  chrX  166236954  166237110   \n",
      "28856  chrX  166300933  166301115   \n",
      "28857  chrX  166417046  166417363   \n",
      "28858  chrX  166424734  166425255   \n",
      "28859  chrX  166428065  166428396   \n",
      "\n",
      "                                                    name  score  signalValue  \\\n",
      "0      Project004-IPSHOCH-Exp5-ChIP-ES-2i-CTCF-IP-Blo...    170      9.50311   \n",
      "1      Project004-IPSHOCH-Exp5-ChIP-ES-2i-CTCF-IP-Blo...    631     24.46086   \n",
      "2      Project004-IPSHOCH-Exp5-ChIP-ES-2i-CTCF-IP-Blo...    239     12.14286   \n",
      "3      Project004-IPSHOCH-Exp5-ChIP-ES-2i-CTCF-IP-Blo...    357     16.36646   \n",
      "4      Project004-IPSHOCH-Exp5-ChIP-ES-2i-CTCF-IP-Blo...    436     19.00621   \n",
      "...                                                  ...    ...          ...   \n",
      "28855  Project004-IPSHOCH-Exp5-ChIP-NPC-CTCF-IP-Blobe...    191     10.48681   \n",
      "28856  Project004-IPSHOCH-Exp5-ChIP-NPC-CTCF-IP-Blobe...    304     15.00000   \n",
      "28857  Project004-IPSHOCH-Exp5-ChIP-NPC-CTCF-IP-Blobe...    445     12.74958   \n",
      "28858  Project004-IPSHOCH-Exp5-ChIP-NPC-CTCF-IP-Blobe...    938     12.65306   \n",
      "28859  Project004-IPSHOCH-Exp5-ChIP-NPC-CTCF-IP-Blobe...    875     19.07143   \n",
      "\n",
      "         pValue    qValue  peak  Unnamed: 9  Unnamed: 10  50185  28860  \n",
      "0      17.04867  14.64283    49         NaN          NaN    NaN    NaN  \n",
      "1      63.14300  60.10382   144         NaN          NaN    NaN    NaN  \n",
      "2      23.90226  21.38447    65         NaN          NaN    NaN    NaN  \n",
      "3      35.79780  33.11425   103         NaN          NaN    NaN    NaN  \n",
      "4      43.69802  40.90810   146         NaN          NaN    NaN    NaN  \n",
      "...         ...       ...   ...         ...          ...    ...    ...  \n",
      "28855  19.14016  16.23458    73         NaN          NaN    NaN    NaN  \n",
      "28856  30.41432  27.27226    68         NaN          NaN    NaN    NaN  \n",
      "28857  44.51430  41.07328   205         NaN          NaN    NaN    NaN  \n",
      "28858  93.85211  89.16364   371         NaN          NaN    NaN    NaN  \n",
      "28859  87.57188  83.03507   180         NaN          NaN    NaN    NaN  \n",
      "\n",
      "[135183 rows x 13 columns]\n"
     ]
    },
    {
     "ename": "KeyError",
     "evalue": "\"['50185' '28860'] not found in axis\"",
     "output_type": "error",
     "traceback": [
      "\u001b[0;31m---------------------------------------------------------------------------\u001b[0m",
      "\u001b[0;31mKeyError\u001b[0m                                  Traceback (most recent call last)",
      "\u001b[0;32m<ipython-input-12-d5198217876a>\u001b[0m in \u001b[0;36m<module>\u001b[0;34m\u001b[0m\n\u001b[1;32m     47\u001b[0m \u001b[0mlist_of_dfs\u001b[0m \u001b[0;34m=\u001b[0m \u001b[0;34m[\u001b[0m\u001b[0mdf_ES2i\u001b[0m\u001b[0;34m,\u001b[0m\u001b[0mdf_ESS\u001b[0m\u001b[0;34m,\u001b[0m\u001b[0mdf_NPC\u001b[0m\u001b[0;34m]\u001b[0m\u001b[0;34m\u001b[0m\u001b[0;34m\u001b[0m\u001b[0m\n\u001b[1;32m     48\u001b[0m \u001b[0moverlap_indicators\u001b[0m \u001b[0;34m=\u001b[0m \u001b[0mmake_indicators\u001b[0m\u001b[0;34m(\u001b[0m\u001b[0mlist_of_dfs\u001b[0m\u001b[0;34m)\u001b[0m\u001b[0;34m\u001b[0m\u001b[0;34m\u001b[0m\u001b[0m\n\u001b[0;32m---> 49\u001b[0;31m \u001b[0moverlap_indicators\u001b[0m \u001b[0;34m=\u001b[0m \u001b[0moverlap_indicators\u001b[0m\u001b[0;34m.\u001b[0m\u001b[0mdrop\u001b[0m\u001b[0;34m(\u001b[0m\u001b[0mlabels\u001b[0m\u001b[0;34m=\u001b[0m\u001b[0;34m[\u001b[0m\u001b[0;34m\"Unnamed: 9\"\u001b[0m\u001b[0;34m,\u001b[0m \u001b[0;34m\"Unnamed: 10\"\u001b[0m\u001b[0;34m,\u001b[0m \u001b[0;34m\"50185\"\u001b[0m\u001b[0;34m,\u001b[0m \u001b[0;34m\"28860\"\u001b[0m\u001b[0;34m]\u001b[0m\u001b[0;34m,\u001b[0m \u001b[0maxis\u001b[0m\u001b[0;34m=\u001b[0m\u001b[0;36m1\u001b[0m\u001b[0;34m)\u001b[0m\u001b[0;34m\u001b[0m\u001b[0;34m\u001b[0m\u001b[0m\n\u001b[0m\u001b[1;32m     50\u001b[0m \u001b[0mdisplay\u001b[0m \u001b[0;34m(\u001b[0m\u001b[0moverlap_indicators\u001b[0m\u001b[0;34m)\u001b[0m\u001b[0;34m\u001b[0m\u001b[0;34m\u001b[0m\u001b[0m\n\u001b[1;32m     51\u001b[0m \u001b[0;31m##overlap_indicators = overlap_indicators.drop(labels=[\"#chr\", \"start\",\"end\"], axis=1)\u001b[0m\u001b[0;34m\u001b[0m\u001b[0;34m\u001b[0m\u001b[0;34m\u001b[0m\u001b[0m\n",
      "\u001b[0;32m~/opt/anaconda3/lib/python3.8/site-packages/pandas/util/_decorators.py\u001b[0m in \u001b[0;36mwrapper\u001b[0;34m(*args, **kwargs)\u001b[0m\n\u001b[1;32m    309\u001b[0m                     \u001b[0mstacklevel\u001b[0m\u001b[0;34m=\u001b[0m\u001b[0mstacklevel\u001b[0m\u001b[0;34m,\u001b[0m\u001b[0;34m\u001b[0m\u001b[0;34m\u001b[0m\u001b[0m\n\u001b[1;32m    310\u001b[0m                 )\n\u001b[0;32m--> 311\u001b[0;31m             \u001b[0;32mreturn\u001b[0m \u001b[0mfunc\u001b[0m\u001b[0;34m(\u001b[0m\u001b[0;34m*\u001b[0m\u001b[0margs\u001b[0m\u001b[0;34m,\u001b[0m \u001b[0;34m**\u001b[0m\u001b[0mkwargs\u001b[0m\u001b[0;34m)\u001b[0m\u001b[0;34m\u001b[0m\u001b[0;34m\u001b[0m\u001b[0m\n\u001b[0m\u001b[1;32m    312\u001b[0m \u001b[0;34m\u001b[0m\u001b[0m\n\u001b[1;32m    313\u001b[0m         \u001b[0;32mreturn\u001b[0m \u001b[0mwrapper\u001b[0m\u001b[0;34m\u001b[0m\u001b[0;34m\u001b[0m\u001b[0m\n",
      "\u001b[0;32m~/opt/anaconda3/lib/python3.8/site-packages/pandas/core/frame.py\u001b[0m in \u001b[0;36mdrop\u001b[0;34m(self, labels, axis, index, columns, level, inplace, errors)\u001b[0m\n\u001b[1;32m   4904\u001b[0m                 \u001b[0mweight\u001b[0m  \u001b[0;36m1.0\u001b[0m     \u001b[0;36m0.8\u001b[0m\u001b[0;34m\u001b[0m\u001b[0;34m\u001b[0m\u001b[0m\n\u001b[1;32m   4905\u001b[0m         \"\"\"\n\u001b[0;32m-> 4906\u001b[0;31m         return super().drop(\n\u001b[0m\u001b[1;32m   4907\u001b[0m             \u001b[0mlabels\u001b[0m\u001b[0;34m=\u001b[0m\u001b[0mlabels\u001b[0m\u001b[0;34m,\u001b[0m\u001b[0;34m\u001b[0m\u001b[0;34m\u001b[0m\u001b[0m\n\u001b[1;32m   4908\u001b[0m             \u001b[0maxis\u001b[0m\u001b[0;34m=\u001b[0m\u001b[0maxis\u001b[0m\u001b[0;34m,\u001b[0m\u001b[0;34m\u001b[0m\u001b[0;34m\u001b[0m\u001b[0m\n",
      "\u001b[0;32m~/opt/anaconda3/lib/python3.8/site-packages/pandas/core/generic.py\u001b[0m in \u001b[0;36mdrop\u001b[0;34m(self, labels, axis, index, columns, level, inplace, errors)\u001b[0m\n\u001b[1;32m   4148\u001b[0m         \u001b[0;32mfor\u001b[0m \u001b[0maxis\u001b[0m\u001b[0;34m,\u001b[0m \u001b[0mlabels\u001b[0m \u001b[0;32min\u001b[0m \u001b[0maxes\u001b[0m\u001b[0;34m.\u001b[0m\u001b[0mitems\u001b[0m\u001b[0;34m(\u001b[0m\u001b[0;34m)\u001b[0m\u001b[0;34m:\u001b[0m\u001b[0;34m\u001b[0m\u001b[0;34m\u001b[0m\u001b[0m\n\u001b[1;32m   4149\u001b[0m             \u001b[0;32mif\u001b[0m \u001b[0mlabels\u001b[0m \u001b[0;32mis\u001b[0m \u001b[0;32mnot\u001b[0m \u001b[0;32mNone\u001b[0m\u001b[0;34m:\u001b[0m\u001b[0;34m\u001b[0m\u001b[0;34m\u001b[0m\u001b[0m\n\u001b[0;32m-> 4150\u001b[0;31m                 \u001b[0mobj\u001b[0m \u001b[0;34m=\u001b[0m \u001b[0mobj\u001b[0m\u001b[0;34m.\u001b[0m\u001b[0m_drop_axis\u001b[0m\u001b[0;34m(\u001b[0m\u001b[0mlabels\u001b[0m\u001b[0;34m,\u001b[0m \u001b[0maxis\u001b[0m\u001b[0;34m,\u001b[0m \u001b[0mlevel\u001b[0m\u001b[0;34m=\u001b[0m\u001b[0mlevel\u001b[0m\u001b[0;34m,\u001b[0m \u001b[0merrors\u001b[0m\u001b[0;34m=\u001b[0m\u001b[0merrors\u001b[0m\u001b[0;34m)\u001b[0m\u001b[0;34m\u001b[0m\u001b[0;34m\u001b[0m\u001b[0m\n\u001b[0m\u001b[1;32m   4151\u001b[0m \u001b[0;34m\u001b[0m\u001b[0m\n\u001b[1;32m   4152\u001b[0m         \u001b[0;32mif\u001b[0m \u001b[0minplace\u001b[0m\u001b[0;34m:\u001b[0m\u001b[0;34m\u001b[0m\u001b[0;34m\u001b[0m\u001b[0m\n",
      "\u001b[0;32m~/opt/anaconda3/lib/python3.8/site-packages/pandas/core/generic.py\u001b[0m in \u001b[0;36m_drop_axis\u001b[0;34m(self, labels, axis, level, errors)\u001b[0m\n\u001b[1;32m   4183\u001b[0m                 \u001b[0mnew_axis\u001b[0m \u001b[0;34m=\u001b[0m \u001b[0maxis\u001b[0m\u001b[0;34m.\u001b[0m\u001b[0mdrop\u001b[0m\u001b[0;34m(\u001b[0m\u001b[0mlabels\u001b[0m\u001b[0;34m,\u001b[0m \u001b[0mlevel\u001b[0m\u001b[0;34m=\u001b[0m\u001b[0mlevel\u001b[0m\u001b[0;34m,\u001b[0m \u001b[0merrors\u001b[0m\u001b[0;34m=\u001b[0m\u001b[0merrors\u001b[0m\u001b[0;34m)\u001b[0m\u001b[0;34m\u001b[0m\u001b[0;34m\u001b[0m\u001b[0m\n\u001b[1;32m   4184\u001b[0m             \u001b[0;32melse\u001b[0m\u001b[0;34m:\u001b[0m\u001b[0;34m\u001b[0m\u001b[0;34m\u001b[0m\u001b[0m\n\u001b[0;32m-> 4185\u001b[0;31m                 \u001b[0mnew_axis\u001b[0m \u001b[0;34m=\u001b[0m \u001b[0maxis\u001b[0m\u001b[0;34m.\u001b[0m\u001b[0mdrop\u001b[0m\u001b[0;34m(\u001b[0m\u001b[0mlabels\u001b[0m\u001b[0;34m,\u001b[0m \u001b[0merrors\u001b[0m\u001b[0;34m=\u001b[0m\u001b[0merrors\u001b[0m\u001b[0;34m)\u001b[0m\u001b[0;34m\u001b[0m\u001b[0;34m\u001b[0m\u001b[0m\n\u001b[0m\u001b[1;32m   4186\u001b[0m             \u001b[0mresult\u001b[0m \u001b[0;34m=\u001b[0m \u001b[0mself\u001b[0m\u001b[0;34m.\u001b[0m\u001b[0mreindex\u001b[0m\u001b[0;34m(\u001b[0m\u001b[0;34m**\u001b[0m\u001b[0;34m{\u001b[0m\u001b[0maxis_name\u001b[0m\u001b[0;34m:\u001b[0m \u001b[0mnew_axis\u001b[0m\u001b[0;34m}\u001b[0m\u001b[0;34m)\u001b[0m\u001b[0;34m\u001b[0m\u001b[0;34m\u001b[0m\u001b[0m\n\u001b[1;32m   4187\u001b[0m \u001b[0;34m\u001b[0m\u001b[0m\n",
      "\u001b[0;32m~/opt/anaconda3/lib/python3.8/site-packages/pandas/core/indexes/base.py\u001b[0m in \u001b[0;36mdrop\u001b[0;34m(self, labels, errors)\u001b[0m\n\u001b[1;32m   6015\u001b[0m         \u001b[0;32mif\u001b[0m \u001b[0mmask\u001b[0m\u001b[0;34m.\u001b[0m\u001b[0many\u001b[0m\u001b[0;34m(\u001b[0m\u001b[0;34m)\u001b[0m\u001b[0;34m:\u001b[0m\u001b[0;34m\u001b[0m\u001b[0;34m\u001b[0m\u001b[0m\n\u001b[1;32m   6016\u001b[0m             \u001b[0;32mif\u001b[0m \u001b[0merrors\u001b[0m \u001b[0;34m!=\u001b[0m \u001b[0;34m\"ignore\"\u001b[0m\u001b[0;34m:\u001b[0m\u001b[0;34m\u001b[0m\u001b[0;34m\u001b[0m\u001b[0m\n\u001b[0;32m-> 6017\u001b[0;31m                 \u001b[0;32mraise\u001b[0m \u001b[0mKeyError\u001b[0m\u001b[0;34m(\u001b[0m\u001b[0;34mf\"{labels[mask]} not found in axis\"\u001b[0m\u001b[0;34m)\u001b[0m\u001b[0;34m\u001b[0m\u001b[0;34m\u001b[0m\u001b[0m\n\u001b[0m\u001b[1;32m   6018\u001b[0m             \u001b[0mindexer\u001b[0m \u001b[0;34m=\u001b[0m \u001b[0mindexer\u001b[0m\u001b[0;34m[\u001b[0m\u001b[0;34m~\u001b[0m\u001b[0mmask\u001b[0m\u001b[0;34m]\u001b[0m\u001b[0;34m\u001b[0m\u001b[0;34m\u001b[0m\u001b[0m\n\u001b[1;32m   6019\u001b[0m         \u001b[0;32mreturn\u001b[0m \u001b[0mself\u001b[0m\u001b[0;34m.\u001b[0m\u001b[0mdelete\u001b[0m\u001b[0;34m(\u001b[0m\u001b[0mindexer\u001b[0m\u001b[0;34m)\u001b[0m\u001b[0;34m\u001b[0m\u001b[0;34m\u001b[0m\u001b[0m\n",
      "\u001b[0;31mKeyError\u001b[0m: \"['50185' '28860'] not found in axis\""
     ]
    }
   ],
   "source": [
    "import pandas as pd\n",
    "import numpy as np\n",
    "import bioframe as bf \n",
    "from upsetplot import from_indicators\n",
    "\n",
    "df_ES2i = pd.read_excel(r'~/Documents/research_work/Supplemental_Table_S5.xlsx', header = 3)\n",
    "df_ESS = pd.read_excel(r'~/Documents/research_work/Supplemental_Table_S6.xlsx', header = 3)\n",
    "df_NPC = pd.read_excel(r'~/Documents/research_work/Supplemental_Table_S7.xlsx', header = 3)\n",
    "\n",
    "df1 = pd.DataFrame([\n",
    "    ['chr1', 3, 6],\n",
    "    ['chr1', 4, 7]],\n",
    "    columns=['#chr', 'start', 'end']\n",
    ")\n",
    "\n",
    "df2 = pd.DataFrame([\n",
    "    ['chr1', 3, 6]],\n",
    "    columns=['#chr', 'start', 'end']\n",
    ")\n",
    "\n",
    "df3 = pd.DataFrame([\n",
    "    ['chr1', 8, 9],\n",
    "    ['chr1', 3, 5]],\n",
    "    columns=['#chr', 'start', 'end']\n",
    ")\n",
    "\n",
    "\n",
    "### function to create matrix for upset plot \n",
    "def make_indicators(list_of_dfs):\n",
    "    name_arr = ['ES 2i', 'ES Serum', 'NPC']\n",
    "    #total count of all dfs \n",
    "    num_df = len(list_of_dfs)\n",
    "    #df of all intervals \n",
    "    df_tot = pd.concat(list_of_dfs) \n",
    "    print (df_tot)\n",
    "    i = 0\n",
    "    j = 0 \n",
    "    for df in list_of_dfs:\n",
    "        #if any given interval in df_tot overlaps any interval in df\n",
    "        df_tot = bf.count_overlaps(df_tot, df,\n",
    "                                             cols1=['#chr','start','end'], cols2=['#chr','start','end'])\n",
    "        df_tot['count'] = df_tot['count'].astype(bool)\n",
    "        df_tot.rename(columns={'count':name_arr[i]},inplace=True)\n",
    "        i = i + 1\n",
    "    return df_tot\n",
    "#df_es_2i1_ctcf,df_es_serum_ctcf,df_npc1_ctcf\n",
    "list_of_dfs = [df_ES2i,df_ESS,df_NPC]\n",
    "overlap_indicators = make_indicators(list_of_dfs)\n",
    "overlap_indicators = overlap_indicators.drop(labels=[\"Unnamed: 9\", \"Unnamed: 10\", \"50185\", \"28860\"], axis=1)\n",
    "display (overlap_indicators)\n",
    "##overlap_indicators = overlap_indicators.drop(labels=[\"#chr\", \"start\",\"end\"], axis=1)\n",
    "\n",
    "\n",
    "\n",
    "\n",
    "\n",
    "#Failed test cases - when the start and stop are the same value; and final data set\n"
   ]
  },
  {
   "cell_type": "code",
   "execution_count": 131,
   "id": "4e5edefd",
   "metadata": {},
   "outputs": [
    {
     "data": {
      "text/plain": [
       "<upsetplot.plotting.UpSet at 0x7fa7c02674f0>"
      ]
     },
     "execution_count": 131,
     "metadata": {},
     "output_type": "execute_result"
    },
    {
     "data": {
      "image/png": "[encoded data removed]",
      "text/plain": [
       "<Figure size 384x288 with 4 Axes>"
      ]
     },
     "metadata": {
      "needs_background": "light"
     },
     "output_type": "display_data"
    }
   ],
   "source": [
    "from upsetplot import UpSet\n",
    "UpSet(from_indicators([\"ES 2i\", \"ES Serum\", \"NPC\"],\n",
    "                      data=overlap_indicators), show_counts = True)\n",
    "#plt = UpSet(overlap_indicators, subset_size='sum', show_counts=True).plot()"
   ]
  },
  {
   "cell_type": "code",
   "execution_count": 95,
   "id": "61cc34a0",
   "metadata": {},
   "outputs": [
    {
     "name": "stdout",
     "output_type": "stream",
     "text": [
      "140358612433776\n",
      "[0 1 2]\n"
     ]
    }
   ],
   "source": []
  },
  {
   "cell_type": "code",
   "execution_count": 117,
   "id": "27857784",
   "metadata": {},
   "outputs": [
    {
     "name": "stdout",
     "output_type": "stream",
     "text": [
      "Enter your value5\n"
     ]
    }
   ],
   "source": []
  }
 ],
 "metadata": {
  "kernelspec": {
   "display_name": "Python 3",
   "language": "python",
   "name": "python3"
  },
  "language_info": {
   "codemirror_mode": {
    "name": "ipython",
    "version": 3
   },
   "file_extension": ".py",
   "mimetype": "text/x-python",
   "name": "python",
   "nbconvert_exporter": "python",
   "pygments_lexer": "ipython3",
   "version": "3.8.8"
  }
 },
 "nbformat": 4,
 "nbformat_minor": 5
}
