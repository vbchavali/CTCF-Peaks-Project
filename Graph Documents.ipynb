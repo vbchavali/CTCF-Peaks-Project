{
 "cells": [
  {
   "cell_type": "markdown",
   "id": "61a98a2d",
   "metadata": {},
   "source": [
    "# Recreating Images from Article \n",
    "\n",
    "## The following code recreates graph 1a of the research paper. \n",
    "\n",
    "https://genome.cshlp.org/content/27/7/1139/F2.expansion.html\n"
   ]
  },
  {
   "cell_type": "code",
   "execution_count": 18,
   "id": "1a61cf8c",
   "metadata": {},
   "outputs": [
    {
     "name": "stdout",
     "output_type": "stream",
     "text": [
      "Text(0.5, 0, 'Cell Type')\n"
     ]
    },
    {
     "data": {
      "image/png": "[encoded data removed]",
      "text/plain": [
       "<Figure size 432x288 with 1 Axes>"
      ]
     },
     "metadata": {
      "needs_background": "light"
     },
     "output_type": "display_data"
    }
   ],
   "source": [
    "import pandas as pd\n",
    "import matplotlib.pyplot as plt\n",
    "\n",
    "df_es_2i1_ctcf = pd.read_excel(r'~/Documents/SuppTables/Supplemental_Table_S5.xlsx', header = 3)\n",
    "df_es_serum_ctcf = pd.read_excel(r'~/Documents/SuppTables/Supplemental_Table_S6.xlsx', header = 3)\n",
    "df_npc1_ctcf = pd.read_excel(r'~/Documents/SuppTables/Supplemental_Table_S7.xlsx', header = 3)\n",
    "df_es2i2_ctcf = pd.read_excel(r'~/Documents/SuppTables/Supplemental_Table_S8.xlsx', header = 3)\n",
    "df_npc2_ctcf = pd.read_excel(r'~/Documents/SuppTables/Supplemental_Table_S9.xlsx', header = 3)\n",
    "df_es2iess_ctcf = pd.read_excel(r'~/Documents/SuppTables/Supplemental_Table_S10.xlsx', header = 3)\n",
    "df_all_peaks = pd.read_excel(r'~/Documents/SuppTables/Supplemental_Table_S11.xlsx', header = 3)\n",
    "df_yy1npc_peaks = pd.read_excel(r'~/Documents/SuppTables/Supplemental_Table_S12.xlsx', header = 3)\n",
    "df_yy1esserum_peaks= pd.read_excel(r'~/Documents/SuppTables/Supplemental_Table_S13.xlsx', header = 3)\n",
    "df_es_enhancer_annotations = pd.read_excel(r'~/Documents/SuppTables/Supplemental_Table_S14.xlsx', header = 3)\n",
    "df_npc_enhancer_annotations = pd.read_excel(r'~/Documents/SuppTables/Supplemental_Table_S15.xlsx', header = 3)\n",
    "\n",
    "\n",
    "    \n",
    "esserum_val = df_es_serum_ctcf.shape[0]\n",
    "npc_val = df_npc1_ctcf.shape[0]\n",
    "es2i_val = df_es_2i1_ctcf.shape[0]\n",
    "\n",
    "df1 = {'Cell Type':[ 'ES 2i', 'ES Serum', 'NPCs'],'# CTCF ChIP Peaks': [esserum_val, npc_val,es2i_val ]}\n",
    "\n",
    "fig1 = plt.bar(df1['Cell Type'], df1['# CTCF ChIP Peaks'], color=['Black', 'Grey', 'Turquoise'])\n",
    "fig1 = plt.ylabel('# CTCF ChIP Peaks')\n",
    "fig1 = plt.xlabel('Cell Type')\n",
    "ay = plt.gca()\n",
    "ay.set_ylim([0,60000])\n",
    "\n",
    "\n",
    "print(fig1)\n"
   ]
  },
  {
   "cell_type": "code",
   "execution_count": 63,
   "id": "77d0e5df",
   "metadata": {},
   "outputs": [
    {
     "data": {
      "text/html": [
       "<div>\n",
       "<style scoped>\n",
       "    .dataframe tbody tr th:only-of-type {\n",
       "        vertical-align: middle;\n",
       "    }\n",
       "\n",
       "    .dataframe tbody tr th {\n",
       "        vertical-align: top;\n",
       "    }\n",
       "\n",
       "    .dataframe thead th {\n",
       "        text-align: right;\n",
       "    }\n",
       "</style>\n",
       "<table border=\"1\" class=\"dataframe\">\n",
       "  <thead>\n",
       "    <tr style=\"text-align: right;\">\n",
       "      <th></th>\n",
       "      <th>#chr</th>\n",
       "      <th>start</th>\n",
       "      <th>end</th>\n",
       "      <th>name</th>\n",
       "      <th>score</th>\n",
       "      <th>signalValue</th>\n",
       "      <th>pValue</th>\n",
       "      <th>qValue</th>\n",
       "      <th>peak</th>\n",
       "      <th>Unnamed: 9</th>\n",
       "      <th>28860</th>\n",
       "    </tr>\n",
       "  </thead>\n",
       "  <tbody>\n",
       "    <tr>\n",
       "      <th>0</th>\n",
       "      <td>chr1</td>\n",
       "      <td>4322662</td>\n",
       "      <td>4322893</td>\n",
       "      <td>Project004-IPSHOCH-Exp5-ChIP-NPC-CTCF-IP-Blobe...</td>\n",
       "      <td>144</td>\n",
       "      <td>6.87500</td>\n",
       "      <td>14.42945</td>\n",
       "      <td>11.63835</td>\n",
       "      <td>113</td>\n",
       "      <td>NaN</td>\n",
       "      <td>NaN</td>\n",
       "    </tr>\n",
       "    <tr>\n",
       "      <th>1</th>\n",
       "      <td>chr1</td>\n",
       "      <td>4336371</td>\n",
       "      <td>4336522</td>\n",
       "      <td>Project004-IPSHOCH-Exp5-ChIP-NPC-CTCF-IP-Blobe...</td>\n",
       "      <td>179</td>\n",
       "      <td>8.91892</td>\n",
       "      <td>17.99991</td>\n",
       "      <td>15.11715</td>\n",
       "      <td>105</td>\n",
       "      <td>NaN</td>\n",
       "      <td>NaN</td>\n",
       "    </tr>\n",
       "    <tr>\n",
       "      <th>2</th>\n",
       "      <td>chr1</td>\n",
       "      <td>4373031</td>\n",
       "      <td>4373165</td>\n",
       "      <td>Project004-IPSHOCH-Exp5-ChIP-NPC-CTCF-IP-Blobe...</td>\n",
       "      <td>179</td>\n",
       "      <td>8.91892</td>\n",
       "      <td>17.99991</td>\n",
       "      <td>15.11715</td>\n",
       "      <td>35</td>\n",
       "      <td>NaN</td>\n",
       "      <td>NaN</td>\n",
       "    </tr>\n",
       "    <tr>\n",
       "      <th>3</th>\n",
       "      <td>chr1</td>\n",
       "      <td>4506748</td>\n",
       "      <td>4506933</td>\n",
       "      <td>Project004-IPSHOCH-Exp5-ChIP-NPC-CTCF-IP-Blobe...</td>\n",
       "      <td>402</td>\n",
       "      <td>18.21393</td>\n",
       "      <td>40.26894</td>\n",
       "      <td>36.92000</td>\n",
       "      <td>64</td>\n",
       "      <td>NaN</td>\n",
       "      <td>NaN</td>\n",
       "    </tr>\n",
       "    <tr>\n",
       "      <th>4</th>\n",
       "      <td>chr1</td>\n",
       "      <td>4758436</td>\n",
       "      <td>4758774</td>\n",
       "      <td>Project004-IPSHOCH-Exp5-ChIP-NPC-CTCF-IP-Blobe...</td>\n",
       "      <td>790</td>\n",
       "      <td>25.94595</td>\n",
       "      <td>79.08524</td>\n",
       "      <td>74.76299</td>\n",
       "      <td>201</td>\n",
       "      <td>NaN</td>\n",
       "      <td>NaN</td>\n",
       "    </tr>\n",
       "    <tr>\n",
       "      <th>...</th>\n",
       "      <td>...</td>\n",
       "      <td>...</td>\n",
       "      <td>...</td>\n",
       "      <td>...</td>\n",
       "      <td>...</td>\n",
       "      <td>...</td>\n",
       "      <td>...</td>\n",
       "      <td>...</td>\n",
       "      <td>...</td>\n",
       "      <td>...</td>\n",
       "      <td>...</td>\n",
       "    </tr>\n",
       "    <tr>\n",
       "      <th>28855</th>\n",
       "      <td>chrX</td>\n",
       "      <td>166236954</td>\n",
       "      <td>166237110</td>\n",
       "      <td>Project004-IPSHOCH-Exp5-ChIP-NPC-CTCF-IP-Blobe...</td>\n",
       "      <td>191</td>\n",
       "      <td>10.48681</td>\n",
       "      <td>19.14016</td>\n",
       "      <td>16.23458</td>\n",
       "      <td>73</td>\n",
       "      <td>NaN</td>\n",
       "      <td>NaN</td>\n",
       "    </tr>\n",
       "    <tr>\n",
       "      <th>28856</th>\n",
       "      <td>chrX</td>\n",
       "      <td>166300933</td>\n",
       "      <td>166301115</td>\n",
       "      <td>Project004-IPSHOCH-Exp5-ChIP-NPC-CTCF-IP-Blobe...</td>\n",
       "      <td>304</td>\n",
       "      <td>15.00000</td>\n",
       "      <td>30.41432</td>\n",
       "      <td>27.27226</td>\n",
       "      <td>68</td>\n",
       "      <td>NaN</td>\n",
       "      <td>NaN</td>\n",
       "    </tr>\n",
       "    <tr>\n",
       "      <th>28857</th>\n",
       "      <td>chrX</td>\n",
       "      <td>166417046</td>\n",
       "      <td>166417363</td>\n",
       "      <td>Project004-IPSHOCH-Exp5-ChIP-NPC-CTCF-IP-Blobe...</td>\n",
       "      <td>445</td>\n",
       "      <td>12.74958</td>\n",
       "      <td>44.51430</td>\n",
       "      <td>41.07328</td>\n",
       "      <td>205</td>\n",
       "      <td>NaN</td>\n",
       "      <td>NaN</td>\n",
       "    </tr>\n",
       "    <tr>\n",
       "      <th>28858</th>\n",
       "      <td>chrX</td>\n",
       "      <td>166424734</td>\n",
       "      <td>166425255</td>\n",
       "      <td>Project004-IPSHOCH-Exp5-ChIP-NPC-CTCF-IP-Blobe...</td>\n",
       "      <td>938</td>\n",
       "      <td>12.65306</td>\n",
       "      <td>93.85211</td>\n",
       "      <td>89.16364</td>\n",
       "      <td>371</td>\n",
       "      <td>NaN</td>\n",
       "      <td>NaN</td>\n",
       "    </tr>\n",
       "    <tr>\n",
       "      <th>28859</th>\n",
       "      <td>chrX</td>\n",
       "      <td>166428065</td>\n",
       "      <td>166428396</td>\n",
       "      <td>Project004-IPSHOCH-Exp5-ChIP-NPC-CTCF-IP-Blobe...</td>\n",
       "      <td>875</td>\n",
       "      <td>19.07143</td>\n",
       "      <td>87.57188</td>\n",
       "      <td>83.03507</td>\n",
       "      <td>180</td>\n",
       "      <td>NaN</td>\n",
       "      <td>NaN</td>\n",
       "    </tr>\n",
       "  </tbody>\n",
       "</table>\n",
       "<p>28860 rows × 11 columns</p>\n",
       "</div>"
      ],
      "text/plain": [
       "       #chr      start        end  \\\n",
       "0      chr1    4322662    4322893   \n",
       "1      chr1    4336371    4336522   \n",
       "2      chr1    4373031    4373165   \n",
       "3      chr1    4506748    4506933   \n",
       "4      chr1    4758436    4758774   \n",
       "...     ...        ...        ...   \n",
       "28855  chrX  166236954  166237110   \n",
       "28856  chrX  166300933  166301115   \n",
       "28857  chrX  166417046  166417363   \n",
       "28858  chrX  166424734  166425255   \n",
       "28859  chrX  166428065  166428396   \n",
       "\n",
       "                                                    name  score  signalValue  \\\n",
       "0      Project004-IPSHOCH-Exp5-ChIP-NPC-CTCF-IP-Blobe...    144      6.87500   \n",
       "1      Project004-IPSHOCH-Exp5-ChIP-NPC-CTCF-IP-Blobe...    179      8.91892   \n",
       "2      Project004-IPSHOCH-Exp5-ChIP-NPC-CTCF-IP-Blobe...    179      8.91892   \n",
       "3      Project004-IPSHOCH-Exp5-ChIP-NPC-CTCF-IP-Blobe...    402     18.21393   \n",
       "4      Project004-IPSHOCH-Exp5-ChIP-NPC-CTCF-IP-Blobe...    790     25.94595   \n",
       "...                                                  ...    ...          ...   \n",
       "28855  Project004-IPSHOCH-Exp5-ChIP-NPC-CTCF-IP-Blobe...    191     10.48681   \n",
       "28856  Project004-IPSHOCH-Exp5-ChIP-NPC-CTCF-IP-Blobe...    304     15.00000   \n",
       "28857  Project004-IPSHOCH-Exp5-ChIP-NPC-CTCF-IP-Blobe...    445     12.74958   \n",
       "28858  Project004-IPSHOCH-Exp5-ChIP-NPC-CTCF-IP-Blobe...    938     12.65306   \n",
       "28859  Project004-IPSHOCH-Exp5-ChIP-NPC-CTCF-IP-Blobe...    875     19.07143   \n",
       "\n",
       "         pValue    qValue  peak  Unnamed: 9  28860  \n",
       "0      14.42945  11.63835   113         NaN    NaN  \n",
       "1      17.99991  15.11715   105         NaN    NaN  \n",
       "2      17.99991  15.11715    35         NaN    NaN  \n",
       "3      40.26894  36.92000    64         NaN    NaN  \n",
       "4      79.08524  74.76299   201         NaN    NaN  \n",
       "...         ...       ...   ...         ...    ...  \n",
       "28855  19.14016  16.23458    73         NaN    NaN  \n",
       "28856  30.41432  27.27226    68         NaN    NaN  \n",
       "28857  44.51430  41.07328   205         NaN    NaN  \n",
       "28858  93.85211  89.16364   371         NaN    NaN  \n",
       "28859  87.57188  83.03507   180         NaN    NaN  \n",
       "\n",
       "[28860 rows x 11 columns]"
      ]
     },
     "execution_count": 63,
     "metadata": {},
     "output_type": "execute_result"
    }
   ],
   "source": [
    "df_npc1_ctcf"
   ]
  },
  {
   "cell_type": "markdown",
   "id": "9e7b9718",
   "metadata": {},
   "source": [
    "## The following code is for graph 2a of the research paper. "
   ]
  },
  {
   "cell_type": "code",
   "execution_count": 55,
   "id": "82692fa1",
   "metadata": {},
   "outputs": [
    {
     "data": {
      "image/png": "[encoded data removed]",
      "text/plain": [
       "<Figure size 256x320 with 4 Axes>"
      ]
     },
     "metadata": {
      "needs_background": "light"
     },
     "output_type": "display_data"
    }
   ],
   "source": [
    "from upsetplot import plot\n",
    "from upsetplot import from_contents\n",
    "from upsetplot import UpSet\n",
    "\n",
    "df2 = from_contents({'NPC': df_npc2_ctcf, 'ES 2i': df_es2i2_ctcf, 'ES2i and ESS': df_es2iess_ctcf, 'All': df_all_peaks})\n",
    "df2\n",
    "\n",
    "plt = UpSet(df2, subset_size='count').plot()\n",
    "\n",
    "#I think the ES Serum data is missing. I cannot find it in any of the excel files. Here is an attempt of an upset plot. "
   ]
  },
  {
   "cell_type": "code",
   "execution_count": 88,
   "id": "5ddd1346",
   "metadata": {},
   "outputs": [
    {
     "data": {
      "text/plain": [
       "3177"
      ]
     },
     "execution_count": 88,
     "metadata": {},
     "output_type": "execute_result"
    }
   ],
   "source": [
    "import bioframe\n",
    "import numpy as np\n",
    "\n",
    "bb1 = bioframe.count_overlaps(df_es_serum_ctcf, df_es_2i1_ctcf, cols1=['#chr','start','end'],\n",
    "                       cols2=['#chr','start','end'])\n",
    "bb1.rename(columns={'count':'count1'},inplace=True)\n",
    "bb1 = bioframe.count_overlaps(bb1, df_npc1_ctcf\n",
    "                             \n",
    "                             , cols1=['#chr','start','end'],\n",
    "                       cols2=['#chr','start','end'])\n",
    "bb1.rename(columns={'count':'count_es_npc'},inplace=True)\n",
    "\n",
    "np.sum( (bb1['count1']==0) * (bb1['count_es_npc']==0))\n",
    "\n",
    "#This value is for ES Serum only. "
   ]
  },
  {
   "cell_type": "code",
   "execution_count": 89,
   "id": "65f828e9",
   "metadata": {},
   "outputs": [
    {
     "data": {
      "text/plain": [
       "20101"
      ]
     },
     "execution_count": 89,
     "metadata": {},
     "output_type": "execute_result"
    }
   ],
   "source": [
    "bb1a = bioframe.count_overlaps(df_es_serum_ctcf, df_es_2i1_ctcf, cols1=['#chr','start','end'],\n",
    "                       cols2=['#chr','start','end'])\n",
    "bb1a.rename(columns={'count':'count1'},inplace=True)\n",
    "bb1a = bioframe.count_overlaps(bb1a, df_npc1_ctcf\n",
    "                             \n",
    "                             , cols1=['#chr','start','end'],\n",
    "                       cols2=['#chr','start','end'])\n",
    "bb1a.rename(columns={'count':'count_es_npc'},inplace=True)\n",
    "\n",
    "np.sum( (bb1a['count1']==1) * (bb1a['count_es_npc']==0))\n",
    "\n",
    "#This value is for ES Serum and ES 2i.  "
   ]
  },
  {
   "cell_type": "code",
   "execution_count": 93,
   "id": "3310dd53",
   "metadata": {},
   "outputs": [
    {
     "data": {
      "text/plain": [
       "0"
      ]
     },
     "execution_count": 93,
     "metadata": {},
     "output_type": "execute_result"
    }
   ],
   "source": [
    "bb2a = bioframe.count_overlaps(df_npc1_ctcf, df_es_serum_ctcf, cols1=['#chr','start','end'],\n",
    "                       cols2=['#chr','start','end'])\n",
    "bb2a.rename(columns={'count':'count2a'},inplace=True)\n",
    "bb2a = bioframe.count_overlaps(bb2a, df_npc1_ctcf\n",
    "                             \n",
    "                             , cols1=['#chr','start','end'],\n",
    "                       cols2=['#chr','start','end'])\n",
    "bb2a.rename(columns={'count':'count_npc'},inplace=True)\n",
    "np.sum( (bb2a['count2a']==0) * (bb2a['count_npc']==0))\n",
    "\n",
    "#This value is for ES 2i only. "
   ]
  },
  {
   "cell_type": "code",
   "execution_count": 96,
   "id": "bfa37bb0",
   "metadata": {},
   "outputs": [
    {
     "data": {
      "text/plain": [
       "0"
      ]
     },
     "execution_count": 96,
     "metadata": {},
     "output_type": "execute_result"
    }
   ],
   "source": [
    "bb2a = bioframe.count_overlaps(df_es_serum_ctcf, df_npc1_ctcf, cols1=['#chr','start','end'],\n",
    "                       cols2=['#chr','start','end'])\n",
    "bb2a.rename(columns={'count':'count2a'},inplace=True)\n",
    "bb2a = bioframe.count_overlaps(bb2a, df_npc1_ctcf\n",
    "                             \n",
    "                             , cols1=['#chr','start','end'],\n",
    "                       cols2=['#chr','start','end'])\n",
    "bb2a.rename(columns={'count':'count_npc'},inplace=True)\n",
    "np.sum( (bb2a['count2a']==1) * (bb2a['count_npc']==0))\n",
    "\n",
    "#This value is for ES 2i only. "
   ]
  },
  {
   "cell_type": "code",
   "execution_count": 65,
   "id": "dbc7e1fc",
   "metadata": {},
   "outputs": [
    {
     "data": {
      "text/plain": [
       "8832"
      ]
     },
     "execution_count": 65,
     "metadata": {},
     "output_type": "execute_result"
    }
   ],
   "source": [
    "bb2 = bioframe.count_overlaps(df_es_2i1_ctcf, df_npc1_ctcf, cols1=['#chr','start','end'],\n",
    "                       cols2=['#chr','start','end'])\n",
    "bb2.rename(columns={'count':'count2'},inplace=True)\n",
    "bb2 = bioframe.count_overlaps(bb2, df_es_serum_ctcf\n",
    "                             \n",
    "                             , cols1=['#chr','start','end'],\n",
    "                       cols2=['#chr','start','end'])\n",
    "bb2.rename(columns={'count':'count_es_serum'},inplace=True)\n",
    "np.sum( (bb2['count2']==0) * (bb2['count_es_serum']==0))\n",
    "\n",
    "#This value is for ES 2i only. "
   ]
  },
  {
   "cell_type": "code",
   "execution_count": 68,
   "id": "90fec651",
   "metadata": {},
   "outputs": [
    {
     "data": {
      "text/plain": [
       "641"
      ]
     },
     "execution_count": 68,
     "metadata": {},
     "output_type": "execute_result"
    }
   ],
   "source": [
    "bb2 = bioframe.count_overlaps(df_es_2i1_ctcf, df_npc1_ctcf, cols1=['#chr','start','end'],\n",
    "                       cols2=['#chr','start','end'])\n",
    "bb2.rename(columns={'count':'count2'},inplace=True)\n",
    "bb2 = bioframe.count_overlaps(bb2, df_es_serum_ctcf\n",
    "                             \n",
    "                             , cols1=['#chr','start','end'],\n",
    "                       cols2=['#chr','start','end'])\n",
    "bb2.rename(columns={'count':'count_es_serum'},inplace=True)\n",
    "np.sum( (bb2['count2']==1) * (bb2['count_es_serum']==0))\n",
    "\n",
    "#This value is for ES 2i and NPC."
   ]
  },
  {
   "cell_type": "code",
   "execution_count": 63,
   "id": "6a051e7d",
   "metadata": {},
   "outputs": [
    {
     "data": {
      "text/plain": [
       "1119"
      ]
     },
     "execution_count": 63,
     "metadata": {},
     "output_type": "execute_result"
    }
   ],
   "source": [
    "bb3 = bioframe.count_overlaps(df_npc1_ctcf, df_es_2i1_ctcf, cols1=['#chr','start','end'],\n",
    "                       cols2=['#chr','start','end'])\n",
    "bb3.rename(columns={'count':'count3'},inplace=True)\n",
    "bb3 = bioframe.count_overlaps(bb3, df_es_serum_ctcf\n",
    "                             \n",
    "                             , cols1=['#chr','start','end'],\n",
    "                       cols2=['#chr','start','end'])\n",
    "bb3.rename(columns={'count':'count_es_serum'},inplace=True)\n",
    "np.sum( (bb3['count3']==0) * (bb3['count_es_serum']==0))\n",
    "\n",
    "#This value is for NPC only. "
   ]
  },
  {
   "cell_type": "code",
   "execution_count": 98,
   "id": "8dc46c4a",
   "metadata": {},
   "outputs": [
    {
     "data": {
      "text/plain": [
       "646"
      ]
     },
     "execution_count": 98,
     "metadata": {},
     "output_type": "execute_result"
    }
   ],
   "source": [
    "bb3 = bioframe.count_overlaps(df_npc1_ctcf, df_es_2i1_ctcf, cols1=['#chr','start','end'],\n",
    "                       cols2=['#chr','start','end'])\n",
    "bb3.rename(columns={'count':'count3'},inplace=True)\n",
    "bb3 = bioframe.count_overlaps(bb3, df_es_serum_ctcf\n",
    "                             \n",
    "                             , cols1=['#chr','start','end'],\n",
    "                       cols2=['#chr','start','end'])\n",
    "bb3.rename(columns={'count':'count_es_serum'},inplace=True)\n",
    "np.sum( (bb3['count3']==1) * (bb3['count_es_serum']==0))\n",
    "\n",
    "#This value is for NPC and ES_2i. \n",
    "#I am not sure I understand why I get two different values when I switch the data frame order and am doing left join essentially. "
   ]
  },
  {
   "cell_type": "code",
   "execution_count": 48,
   "id": "96e59162",
   "metadata": {},
   "outputs": [
    {
     "ename": "NameError",
     "evalue": "name 'a' is not defined",
     "output_type": "error",
     "traceback": [
      "\u001b[0;31m---------------------------------------------------------------------------\u001b[0m",
      "\u001b[0;31mNameError\u001b[0m                                 Traceback (most recent call last)",
      "\u001b[0;32m<ipython-input-48-185d0c195ccf>\u001b[0m in \u001b[0;36m<module>\u001b[0;34m\u001b[0m\n\u001b[0;32m----> 1\u001b[0;31m \u001b[0mbioframe\u001b[0m\u001b[0;34m.\u001b[0m\u001b[0moverlap\u001b[0m\u001b[0;34m(\u001b[0m \u001b[0mbioframe\u001b[0m\u001b[0;34m.\u001b[0m\u001b[0moverlap\u001b[0m\u001b[0;34m(\u001b[0m \u001b[0ma\u001b[0m\u001b[0;34m,\u001b[0m \u001b[0mb\u001b[0m\u001b[0;34m)\u001b[0m\u001b[0;34m,\u001b[0m \u001b[0mc\u001b[0m\u001b[0;34m)\u001b[0m\u001b[0;34m\u001b[0m\u001b[0;34m\u001b[0m\u001b[0m\n\u001b[0m",
      "\u001b[0;31mNameError\u001b[0m: name 'a' is not defined"
     ]
    }
   ],
   "source": [
    "bioframe.overlap( bioframe.overlap( a, b), c)"
   ]
  },
  {
   "cell_type": "code",
   "execution_count": 73,
   "id": "069b2f9b",
   "metadata": {},
   "outputs": [
    {
     "data": {
      "text/plain": [
       "3594"
      ]
     },
     "execution_count": 73,
     "metadata": {},
     "output_type": "execute_result"
    }
   ],
   "source": []
  },
  {
   "cell_type": "code",
   "execution_count": 60,
   "id": "db76f238",
   "metadata": {},
   "outputs": [
    {
     "data": {
      "image/png": "[encoded data removed]",
      "text/plain": [
       "<Figure size 432x288 with 1 Axes>"
      ]
     },
     "metadata": {},
     "output_type": "display_data"
    }
   ],
   "source": [
    "import matplotlib.pyplot as plt\n",
    "from matplotlib_venn import venn3\n",
    "\n",
    "npconly = df_npc2_ctcf.shape[0]\n",
    "es2ionly = df_es2i2_ctcf.shape[0]\n",
    "es2iess = df_es2iess_ctcf.shape[0]\n",
    "all = df_all_peaks.shape[0]\n",
    "\n",
    "venn3(subsets = (npconly,es2ionly,641, es2iess, 416, 2068, all), set_labels = ('NPC', 'ES2i', \"ES Serum\"))\n",
    "plt.show()\n",
    "\n",
    "#Upset plots seem useful, but I wanted to recreate the venn diagram. Here it is. "
   ]
  }
 ],
 "metadata": {
  "kernelspec": {
   "display_name": "Python 3",
   "language": "python",
   "name": "python3"
  },
  "language_info": {
   "codemirror_mode": {
    "name": "ipython",
    "version": 3
   },
   "file_extension": ".py",
   "mimetype": "text/x-python",
   "name": "python",
   "nbconvert_exporter": "python",
   "pygments_lexer": "ipython3",
   "version": "3.8.8"
  }
 },
 "nbformat": 4,
 "nbformat_minor": 5
}
