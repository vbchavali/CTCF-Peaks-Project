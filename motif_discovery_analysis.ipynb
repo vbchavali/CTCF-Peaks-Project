{
 "cells": [
  {
   "cell_type": "code",
   "execution_count": null,
   "id": "db668e1f-fab9-49e7-8d66-48e6a2a87384",
   "metadata": {},
   "outputs": [],
   "source": [
    "import pandas as pd\n",
    "import matplotlib.pyplot as plt\n",
    "import bioframe as bf\n",
    "import pandas as pd\n",
    "import numpy as np\n",
    "from upsetplot import from_indicators\n",
    "from gimmemotifs.motif import Motif,read_motifs"
   ]
  },
  {
   "cell_type": "code",
   "execution_count": null,
   "id": "0426c4eb-330a-4719-9594-6c0cac2102d1",
   "metadata": {},
   "outputs": [],
   "source": [
    "df_ES2i = pd.read_excel('~/Supplemental_Table_S5.xlsx', header = 3)\n",
    "df_ESS = pd.read_excel('~/Supplemental_Table_S6.xlsx', header = 3)\n",
    "df_NPC = pd.read_excel('~/Supplemental_Table_S7.xlsx', header = 3)"
   ]
  },
  {
   "cell_type": "markdown",
   "id": "cb9c7e25-5bd5-4fb9-a3fa-b0a3e0467daa",
   "metadata": {},
   "source": [
    "Creation of plot to compare all factors with one another to determine which variables are important for motif discovery. "
   ]
  },
  {
   "cell_type": "code",
   "execution_count": null,
   "id": "3b7d5dad-8115-4387-a3c6-39de6a7abfc4",
   "metadata": {},
   "outputs": [],
   "source": [
    "def var_analysis(list_of_dfs):\n",
    "    for df in list_of_dfs:\n",
    "        score = pd.DataFrame(df, columns= ['score'])\n",
    "        pvalue = pd.DataFrame(df, columns= ['pValue'])\n",
    "        signalvalue = pd.DataFrame(df, columns= ['signalValue'])\n",
    "        qvalue = pd.DataFrame(df, columns= ['qValue'])\n",
    "        peak = pd.DataFrame(df, columns= ['qValue'])\n",
    "    fig, ax = plt.subplots(2, 3, constrained_layout=True)\n",
    "    ax[0][0].plot(score, pvalue, label = \"score,pvalue\")\n",
    "    ax[0][0].set(title = \"\", xlabel='Score', ylabel='pValue')\n",
    "\n",
    "    ax[0][1].plot(score, qvalue, label = \"score,qvalue\")\n",
    "    ax[0][1].set(title = \"\", xlabel='Score', ylabel='qValue')\n",
    "\n",
    "    ax[0][2].plot(score, peak, label = \"score,peak\")\n",
    "    ax[0][2].set(title = \"\", xlabel='Score', ylabel='peak')\n",
    "\n",
    "    ax[1][0].plot(score, signalvalue, label = \"score,signalValue\")\n",
    "    ax[1][0].set(title = \"\", xlabel='Score', ylabel='signalValue')\n",
    "\n",
    "    ax[1][1].plot(signalvalue, pvalue, label = \"score,pValue\")\n",
    "    ax[1][1].set(title = \"\", xlabel='signalValue', ylabel='pValue')\n",
    "\n",
    "    ax[1][2].plot(signalvalue, qvalue, label = \"score,qValue\")\n",
    "    ax[1][2].set(title = \"\", xlabel='signalValue', ylabel='qValue')\n",
    "\n",
    "    plt.show()\n",
    "    return 0\n",
    "\n",
    "list_of_dfs = [df_ES2i, df_ESS, df_NPC]\n",
    "var_analysis(list_of_dfs)\n",
    "\n"
   ]
  },
  {
   "cell_type": "markdown",
   "id": "e1dca6ab-f44e-4740-8343-8be41bf4b368",
   "metadata": {},
   "source": [
    "Function and call to identify overlaps between cell types. "
   ]
  },
  {
   "cell_type": "code",
   "execution_count": null,
   "id": "7e01eeb9-6b68-4584-826b-70f5a74a23be",
   "metadata": {},
   "outputs": [],
   "source": [
    "def make_indicators(list_of_dfs):\n",
    "    name_arr = ['ES2i', 'ESSerum', 'NPC']\n",
    "    num_df = len(list_of_dfs)\n",
    "    df_tot = pd.concat(list_of_dfs) \n",
    "    print (df_tot)\n",
    "    i = 0\n",
    "    j = 0 \n",
    "    for df in list_of_dfs:\n",
    "        #if any given interval in df_tot overlaps any interval in df\n",
    "        df_tot = bf.count_overlaps(df_tot, df,\n",
    "                                             cols1=['#chr','start','end'], cols2=['#chr','start','end'])\n",
    "        df_tot['count'] = df_tot['count'].astype(bool)\n",
    "        df_tot.rename(columns={'count':name_arr[i]},inplace=True)\n",
    "        i = i + 1\n",
    "    return df_tot\n",
    "#df_es_2i1_ctcf,df_es_serum_ctcf,df_npc1_ctcf\n",
    "list_of_dfs = [df_ES2i,df_ESS,df_NPC]\n",
    "overlap_indicators = make_indicators(list_of_dfs)\n",
    "display (overlap_indicators)"
   ]
  },
  {
   "cell_type": "code",
   "execution_count": null,
   "id": "980095ba-61db-41e5-9a33-5ef9a03add5c",
   "metadata": {},
   "outputs": [],
   "source": [
    "es2i_ess= overlap_indicators[(overlap_indicators['ES2i'] == True) & (overlap_indicators['ESSerum'] == True) & (overlap_indicators['NPC'] == False)]\n",
    "display(es2i_ess)\n",
    "\n",
    "\n",
    "npc_ess= overlap_indicators[(overlap_indicators['NPC'] == True) & (overlap_indicators['ESSerum'] == True) & (overlap_indicators['ES2i'] == False)]\n",
    "display(npc_ess)\n",
    "\n",
    "es2i_npc = overlap_indicators[(overlap_indicators['ES2i'] == True) & (overlap_indicators['NPC'] == True) & (overlap_indicators['ESSerum'] == False)]\n",
    "display(es2i_npc)\n",
    "\n",
    "tot = overlap_indicators[(overlap_indicators['ES2i'] == True) & (overlap_indicators['NPC'] == True) & (overlap_indicators['ESSerum'] == True)]\n",
    "display(tot)"
   ]
  },
  {
   "cell_type": "markdown",
   "id": "112a2258-499a-4a75-b565-bd410c40cab0",
   "metadata": {},
   "source": [
    "Sorting overlaps by top thousand outputs based on pValue to maximize quality of motif discovery and reduce noise. This function also cleans data as necessary. "
   ]
  },
  {
   "cell_type": "code",
   "execution_count": null,
   "id": "e6bcf189-3990-4528-b4b9-e1356d13f14f",
   "metadata": {},
   "outputs": [],
   "source": [
    "def top_thousand_sort(df_edit):\n",
    "    df_edit.rename(columns={'#chr':'chrom'},inplace=True)\n",
    "    df_annotated = bf.cluster(df_edit, min_dist=0)\n",
    "    display(df_annotated)\n",
    "    df_annotated = df_annotated.groupby(['cluster']).max()\n",
    "    df_annotated['start'] = df_annotated[\"cluster_start\"]\n",
    "    df_annotated['end'] = df_annotated[\"cluster_end\"]\n",
    "    df_final = df_annotated.iloc[:,0:9]\n",
    "    display(df_final)\n",
    "    df_final_thousand = df_final.sort_values(by=['pValue'], ascending=False)\n",
    "    display(df_final_thousand)\n",
    "    df_final_thousand = df_final_thousand.head(1000)\n",
    "    display(df_final_thousand)\n",
    "    df_final_thousand.rename(columns={'chrom':'#chr'},inplace=True)\n",
    "    return (df_final_thousand)"
   ]
  },
  {
   "cell_type": "code",
   "execution_count": null,
   "id": "44c4dcdc-63fa-4142-9b7a-db78e7c02c7c",
   "metadata": {},
   "outputs": [],
   "source": [
    "tes2i_ess = top_thousand_sort(es2i_ess)\n",
    "tes2i_npc = top_thousand_sort(es2i_npc)\n",
    "tnpc_ess = top_thousand_sort(npc_ess)\n",
    "ttot = top_thousand_sort(tot)"
   ]
  },
  {
   "cell_type": "code",
   "execution_count": null,
   "id": "76d5acb2-7c04-43e4-a5e1-48326792f5c8",
   "metadata": {},
   "outputs": [],
   "source": [
    "tes2i_ess.to_csv('~/es2i_ess.csv')\n",
    "tes2i_npc.to_csv('~/es2i_npc.csv') \n",
    "tnpc_ess.to_csv('~/npc_ess.csv') \n",
    "ttot.to_csv('~/tot.csv')"
   ]
  },
  {
   "cell_type": "markdown",
   "id": "8bd20ae9-0785-4b7b-af7b-aaff6a2d8c30",
   "metadata": {},
   "source": [
    "Output of Motif Discovery from Gimmemotifs"
   ]
  },
  {
   "cell_type": "code",
   "execution_count": null,
   "id": "9fd0cecc-4248-4ffb-95eb-a742fc645800",
   "metadata": {},
   "outputs": [],
   "source": [
    "pfm_motif_es2i_npc = read_motifs(\"/home1/chavali/gimme.es2inpc/gimme.denovo.pfm\")\n",
    "display(pfm_motif_es2i_npc)\n",
    "\n",
    "pfm_motif_es2i_ess = read_motifs(\"/home1/chavali/gimme.CTCFes2iess/gimme.denovo.pfm\")\n",
    "display(pfm_motif_es2i_ess)\n",
    "\n",
    "pfm_motif_npc_ess = read_motifs(\"/home1/chavali/gimme.npc_ess/gimme.denovo.pfm\")\n",
    "display(pfm_motif_npc_ess)\n",
    "\n",
    "pfm_motif_tot = read_motifs(\"/home1/chavali/gimme.tot/gimme.denovo.pfm\")\n",
    "display(pfm_motif_tot)\n",
    "\n",
    "pfm_motif_es2i = read_motifs(\"/home1/chavali/gimme.CTCFes2i/gimme.denovo.pfm\")\n",
    "display(pfm_motif_es2i)\n",
    "\n",
    "pfm_motif_npc = read_motifs(\"/home1/chavali/gimme.CTCFnpc/gimme.denovo.pfm\")\n",
    "display(pfm_motif_npc)\n",
    "\n",
    "pfm_motif_ess = read_motifs(\"/home1/chavali/gimme.CTCFess/gimme.denovo.pfm\")\n",
    "display(pfm_motif_ess)\n",
    "\n",
    "#Can already extrapolate sequence from PFM. "
   ]
  },
  {
   "cell_type": "markdown",
   "id": "4e8d6573-92d1-48a2-86e8-cc2ebdf7375e",
   "metadata": {},
   "source": [
    "Homer-Score Analysis of DeNovo Motifs "
   ]
  },
  {
   "cell_type": "code",
   "execution_count": null,
   "id": "0fa17b71-c982-4374-a1e2-079b982ee18a",
   "metadata": {},
   "outputs": [],
   "source": [
    "#import as pfm and then compare as opposed to copy pasting to ensure reproducibility\n",
    "\n",
    "motifs = [\n",
    "    motif_from_consensus(\"TGCCmyCTnsTGGC\"),\n",
    "    motif_from_consensus(\"rATCTGnTGCCmTCTTCT\"),\n",
    "    motif_from_consensus(\"myrGCGCCCyCTTCTGGC\"),\n",
    "    motif_from_consensus(\"CCAsnAGrkGGCA\"),\n",
    "    motif_from_consensus(\"GrkGGCAsyr\"),\n",
    "    motif_from_consensus(\"GyCACy\"),\n",
    "    motif_from_consensus(\"CAnTGnCwsC\"),\n",
    "    motif_from_consensus(\"rCTsCnAn\"),\n",
    "    motif_from_consensus(\"sCAsTr\"),\n",
    "    motif_from_consensus(\"nnGCCAsyAGrGGGCGCy\"),\n",
    "    motif_from_consensus(\"GsGGCGn\"),\n",
    "    motif_from_consensus(\"ynGCCAsyAGrGGGCrCy\"),\n",
    "    motif_from_consensus(\"nrGCGC\"),\n",
    "    motif_from_consensus(\"nnrGyGCCCyCTrsTGGyCn\"),\n",
    "    motif_from_consensus(\"GCGCCCyCTn\"),\n",
    "    motif_from_consensus(\"GCGCys\"),\n",
    "    motif_from_consensus(\"yGCCCy\"),\n",
    "    motif_from_consensus(\"ynrCCAsyAGrkGGCrsynn\"),\n",
    "    ###Only motif from JASPAR\n",
    "    ##import using PFM and compare\n",
    "]\n",
    "\n",
    "mc = MotifComparer()\n",
    "results = mc.get_closest_match(motifs, dbmotifs=read_motifs(\"HOMER\"), metric=\"seqcor\")\n",
    "\n",
    "# Load motifs\n",
    "db = read_motifs(\"HOMER\", as_dict=True)\n",
    "\n",
    "for motif in motifs:\n",
    "    match, scores = results[motif.id]\n",
    "    print(\"{}: {} - {:.3f}\".format(motif.id, match, scores[0]))\n",
    "    dbmotif = db[match]\n",
    "    orient = scores[2]\n",
    "    if orient == -1:\n",
    "        dbmotif = dbmotif.rc()\n",
    "    padm, padd = 0, 0\n",
    "    if scores[1] < 0:\n",
    "        padm = -scores[1]\n",
    "    elif scores[1] > 0:\n",
    "        padd = scores[1]\n",
    "    print(\" \" * padm + motif.to_consensus())\n",
    "    print(\" \" * padd + dbmotif.to_consensus())\n",
    "    print()"
   ]
  }
 ],
 "metadata": {
  "kernelspec": {
   "display_name": "Research37",
   "language": "python",
   "name": "research37"
  },
  "language_info": {
   "codemirror_mode": {
    "name": "ipython",
    "version": 3
   },
   "file_extension": ".py",
   "mimetype": "text/x-python",
   "name": "python",
   "nbconvert_exporter": "python",
   "pygments_lexer": "ipython3",
   "version": "3.7.12"
  }
 },
 "nbformat": 4,
 "nbformat_minor": 5
}
