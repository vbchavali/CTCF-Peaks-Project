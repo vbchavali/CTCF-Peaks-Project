{
 "cells": [
  {
   "cell_type": "code",
   "execution_count": 4,
   "id": "d4296f13",
   "metadata": {},
   "outputs": [
    {
     "data": {
      "image/png": "[encoded data removed]",
      "text/plain": [
       "<Figure size 432x288 with 1 Axes>"
      ]
     },
     "metadata": {
      "needs_background": "light"
     },
     "output_type": "display_data"
    }
   ],
   "source": [
    "\n",
    "import bioframe\n",
    "import pandas as pd \n",
    "import matplotlib.pyplot as plt\n",
    "import numpy as np\n",
    "\n",
    "\n",
    "ctcf_peaks = bioframe.read_table(r'~/Downloads/ENCFF393REY.bed.gz', schema = 'narrowPeak')\n",
    "ctcf_peaks[0:100]\n",
    "\n",
    "\n",
    "jaspar_url = 'http://expdata.cmmt.ubc.ca/JASPAR/downloads/UCSC_tracks/2022/hg38/'\n",
    "jaspar_motif_file = 'MA0139.1.tsv.gz'\n",
    "ctcf_motifs = bioframe.read_table(jaspar_url+jaspar_motif_file,schema='jaspar',skiprows=1)    \n",
    "ctcf_motifs[0:4]\n",
    "\n",
    "df_peaks_motifs = bioframe.overlap(ctcf_peaks,ctcf_motifs, suffixes=('_1','_2'))\n",
    "\n",
    "motifs_per_peak = df_peaks_motifs.groupby([\"chrom_1\", \"start_1\",\"end_1\"]).size().values\n",
    "plt.hist(motifs_per_peak,np.arange(0,np.max(motifs_per_peak)))\n",
    "plt.xlabel('number of overlapping motifs per peak')\n",
    "plt.ylabel('number of peaks')\n",
    "plt.semilogy();\n"
   ]
  },
  {
   "cell_type": "code",
   "execution_count": 10,
   "id": "f850a799",
   "metadata": {},
   "outputs": [
    {
     "data": {
      "text/plain": [
       "((39577,), (39756, 17))"
      ]
     },
     "execution_count": 10,
     "metadata": {},
     "output_type": "execute_result"
    }
   ],
   "source": [
    "motifs_per_peak.shape, df_peaks_motifs.shape"
   ]
  },
  {
   "cell_type": "code",
   "execution_count": 8,
   "id": "89fd6de8",
   "metadata": {},
   "outputs": [
    {
     "data": {
      "text/html": [
       "<div>\n",
       "<style scoped>\n",
       "    .dataframe tbody tr th:only-of-type {\n",
       "        vertical-align: middle;\n",
       "    }\n",
       "\n",
       "    .dataframe tbody tr th {\n",
       "        vertical-align: top;\n",
       "    }\n",
       "\n",
       "    .dataframe thead th {\n",
       "        text-align: right;\n",
       "    }\n",
       "</style>\n",
       "<table border=\"1\" class=\"dataframe\">\n",
       "  <thead>\n",
       "    <tr style=\"text-align: right;\">\n",
       "      <th></th>\n",
       "      <th>chrom_1</th>\n",
       "      <th>start_1</th>\n",
       "      <th>end_1</th>\n",
       "      <th>name_1</th>\n",
       "      <th>score_1</th>\n",
       "      <th>strand_1</th>\n",
       "      <th>fc_1</th>\n",
       "      <th>-log10p_1</th>\n",
       "      <th>-log10q_1</th>\n",
       "      <th>relSummit_1</th>\n",
       "      <th>chrom_2</th>\n",
       "      <th>start_2</th>\n",
       "      <th>end_2</th>\n",
       "      <th>name_2</th>\n",
       "      <th>score_2</th>\n",
       "      <th>pval_2</th>\n",
       "      <th>strand_2</th>\n",
       "    </tr>\n",
       "  </thead>\n",
       "  <tbody>\n",
       "    <tr>\n",
       "      <th>0</th>\n",
       "      <td>chr4</td>\n",
       "      <td>107164058</td>\n",
       "      <td>107164381</td>\n",
       "      <td>.</td>\n",
       "      <td>542.0</td>\n",
       "      <td>.</td>\n",
       "      <td>572.84135</td>\n",
       "      <td>-1.0</td>\n",
       "      <td>4.7294</td>\n",
       "      <td>177.0</td>\n",
       "      <td>None</td>\n",
       "      <td>&lt;NA&gt;</td>\n",
       "      <td>&lt;NA&gt;</td>\n",
       "      <td>None</td>\n",
       "      <td>NaN</td>\n",
       "      <td>NaN</td>\n",
       "      <td>None</td>\n",
       "    </tr>\n",
       "    <tr>\n",
       "      <th>1</th>\n",
       "      <td>chr17</td>\n",
       "      <td>37203637</td>\n",
       "      <td>37203963</td>\n",
       "      <td>.</td>\n",
       "      <td>586.0</td>\n",
       "      <td>.</td>\n",
       "      <td>569.68704</td>\n",
       "      <td>-1.0</td>\n",
       "      <td>4.7294</td>\n",
       "      <td>155.0</td>\n",
       "      <td>None</td>\n",
       "      <td>&lt;NA&gt;</td>\n",
       "      <td>&lt;NA&gt;</td>\n",
       "      <td>None</td>\n",
       "      <td>NaN</td>\n",
       "      <td>NaN</td>\n",
       "      <td>None</td>\n",
       "    </tr>\n",
       "    <tr>\n",
       "      <th>2</th>\n",
       "      <td>chr9</td>\n",
       "      <td>21313331</td>\n",
       "      <td>21313630</td>\n",
       "      <td>.</td>\n",
       "      <td>736.0</td>\n",
       "      <td>.</td>\n",
       "      <td>559.65096</td>\n",
       "      <td>-1.0</td>\n",
       "      <td>4.7294</td>\n",
       "      <td>148.0</td>\n",
       "      <td>None</td>\n",
       "      <td>&lt;NA&gt;</td>\n",
       "      <td>&lt;NA&gt;</td>\n",
       "      <td>None</td>\n",
       "      <td>NaN</td>\n",
       "      <td>NaN</td>\n",
       "      <td>None</td>\n",
       "    </tr>\n",
       "    <tr>\n",
       "      <th>3</th>\n",
       "      <td>chr6</td>\n",
       "      <td>35379928</td>\n",
       "      <td>35380233</td>\n",
       "      <td>.</td>\n",
       "      <td>762.0</td>\n",
       "      <td>.</td>\n",
       "      <td>558.30330</td>\n",
       "      <td>-1.0</td>\n",
       "      <td>4.7294</td>\n",
       "      <td>151.0</td>\n",
       "      <td>None</td>\n",
       "      <td>&lt;NA&gt;</td>\n",
       "      <td>&lt;NA&gt;</td>\n",
       "      <td>None</td>\n",
       "      <td>NaN</td>\n",
       "      <td>NaN</td>\n",
       "      <td>None</td>\n",
       "    </tr>\n",
       "    <tr>\n",
       "      <th>4</th>\n",
       "      <td>chr11</td>\n",
       "      <td>100295357</td>\n",
       "      <td>100295688</td>\n",
       "      <td>.</td>\n",
       "      <td>935.0</td>\n",
       "      <td>.</td>\n",
       "      <td>553.33011</td>\n",
       "      <td>-1.0</td>\n",
       "      <td>4.7294</td>\n",
       "      <td>175.0</td>\n",
       "      <td>None</td>\n",
       "      <td>&lt;NA&gt;</td>\n",
       "      <td>&lt;NA&gt;</td>\n",
       "      <td>None</td>\n",
       "      <td>NaN</td>\n",
       "      <td>NaN</td>\n",
       "      <td>None</td>\n",
       "    </tr>\n",
       "  </tbody>\n",
       "</table>\n",
       "</div>"
      ],
      "text/plain": [
       "  chrom_1    start_1      end_1 name_1  score_1 strand_1       fc_1  \\\n",
       "0    chr4  107164058  107164381      .    542.0        .  572.84135   \n",
       "1   chr17   37203637   37203963      .    586.0        .  569.68704   \n",
       "2    chr9   21313331   21313630      .    736.0        .  559.65096   \n",
       "3    chr6   35379928   35380233      .    762.0        .  558.30330   \n",
       "4   chr11  100295357  100295688      .    935.0        .  553.33011   \n",
       "\n",
       "   -log10p_1  -log10q_1  relSummit_1 chrom_2  start_2  end_2 name_2  score_2  \\\n",
       "0       -1.0     4.7294        177.0    None     <NA>   <NA>   None      NaN   \n",
       "1       -1.0     4.7294        155.0    None     <NA>   <NA>   None      NaN   \n",
       "2       -1.0     4.7294        148.0    None     <NA>   <NA>   None      NaN   \n",
       "3       -1.0     4.7294        151.0    None     <NA>   <NA>   None      NaN   \n",
       "4       -1.0     4.7294        175.0    None     <NA>   <NA>   None      NaN   \n",
       "\n",
       "   pval_2 strand_2  \n",
       "0     NaN     None  \n",
       "1     NaN     None  \n",
       "2     NaN     None  \n",
       "3     NaN     None  \n",
       "4     NaN     None  "
      ]
     },
     "execution_count": 8,
     "metadata": {},
     "output_type": "execute_result"
    }
   ],
   "source": [
    "df_peaks_motifs[0:5]"
   ]
  },
  {
   "cell_type": "code",
   "execution_count": 17,
   "id": "265ccbd7",
   "metadata": {},
   "outputs": [
    {
     "data": {
      "text/plain": [
       "37612"
      ]
     },
     "execution_count": 17,
     "metadata": {},
     "output_type": "execute_result"
    }
   ],
   "source": [
    "np.sum(pd.isna(df_peaks_motifs['chrom_2'].values)) #- len(df_peaks_motifs)"
   ]
  },
  {
   "cell_type": "code",
   "execution_count": 18,
   "id": "c4d533d4",
   "metadata": {},
   "outputs": [
    {
     "data": {
      "text/plain": [
       "(39586, 10)"
      ]
     },
     "execution_count": 18,
     "metadata": {},
     "output_type": "execute_result"
    }
   ],
   "source": [
    "ctcf_peaks.shape"
   ]
  },
  {
   "cell_type": "code",
   "execution_count": 26,
   "id": "465384d5",
   "metadata": {},
   "outputs": [],
   "source": [
    "? bioframe.count_overlaps"
   ]
  },
  {
   "cell_type": "code",
   "execution_count": 20,
   "id": "09e7b3a1",
   "metadata": {},
   "outputs": [],
   "source": [
    "counts = bioframe.count_overlaps(ctcf_peaks, ctcf_motifs)"
   ]
  },
  {
   "cell_type": "code",
   "execution_count": 27,
   "id": "dcc735d9",
   "metadata": {},
   "outputs": [
    {
     "data": {
      "image/png": "[encoded data removed]",
      "text/plain": [
       "<Figure size 432x288 with 1 Axes>"
      ]
     },
     "metadata": {
      "needs_background": "light"
     },
     "output_type": "display_data"
    }
   ],
   "source": [
    "plt.hist(counts['count'].values,np.arange(0,np.max(motifs_per_peak)))\n",
    "plt.xlabel('number of overlapping motifs per peak')\n",
    "plt.ylabel('number of peaks')\n",
    "plt.semilogy();\n"
   ]
  },
  {
   "cell_type": "code",
   "execution_count": 23,
   "id": "100f8295",
   "metadata": {},
   "outputs": [
    {
     "data": {
      "text/plain": [
       "'/Users/vbchavali/opt/anaconda3/bin/python'"
      ]
     },
     "execution_count": 23,
     "metadata": {},
     "output_type": "execute_result"
    }
   ],
   "source": [
    "import sys\n",
    "sys.executable"
   ]
  },
  {
   "cell_type": "code",
   "execution_count": 25,
   "id": "c148ca27",
   "metadata": {},
   "outputs": [
    {
     "data": {
      "text/plain": [
       "<module 'bioframe' from '/Users/vbchavali/opt/anaconda3/lib/python3.8/site-packages/bioframe/__init__.py'>"
      ]
     },
     "execution_count": 25,
     "metadata": {},
     "output_type": "execute_result"
    }
   ],
   "source": [
    "bioframe"
   ]
  },
  {
   "cell_type": "code",
   "execution_count": null,
   "id": "6a1099d2",
   "metadata": {},
   "outputs": [],
   "source": []
  }
 ],
 "metadata": {
  "kernelspec": {
   "display_name": "Python 3",
   "language": "python",
   "name": "python3"
  },
  "language_info": {
   "codemirror_mode": {
    "name": "ipython",
    "version": 3
   },
   "file_extension": ".py",
   "mimetype": "text/x-python",
   "name": "python",
   "nbconvert_exporter": "python",
   "pygments_lexer": "ipython3",
   "version": "3.8.8"
  }
 },
 "nbformat": 4,
 "nbformat_minor": 5
}
